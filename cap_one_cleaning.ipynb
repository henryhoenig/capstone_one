{
 "cells": [
  {
   "cell_type": "code",
   "execution_count": 1,
   "metadata": {},
   "outputs": [],
   "source": [
    "import pandas as pd\n",
    "import numpy as np\n",
    "import scipy as sp\n",
    "import scipy.stats as stats\n",
    "import matplotlib.pyplot as plt"
   ]
  },
  {
   "cell_type": "code",
   "execution_count": 2,
   "metadata": {},
   "outputs": [],
   "source": [
    "df = pd.read_csv('data/ky_louisville_2020_04_01.csv')"
   ]
  },
  {
   "cell_type": "code",
   "execution_count": 3,
   "metadata": {},
   "outputs": [],
   "source": [
    "df = df.drop(columns=['raw_row_number', 'location', 'raw_activity_division', 'raw_division', 'raw_activity_beat', 'raw_beat', 'raw_persons_race', 'raw_persons_ethnicity', 'raw_driver_age_range', 'raw_citation_location'])"
   ]
  },
  {
   "cell_type": "code",
   "execution_count": 4,
   "metadata": {},
   "outputs": [],
   "source": [
    "df = df.rename(columns={'subject_sex': 'subject_gender', 'officer_sex': 'officer_gender', 'raw_was_vehcile_searched': 'vehicle_searched'})"
   ]
  },
  {
   "cell_type": "code",
   "execution_count": 5,
   "metadata": {},
   "outputs": [],
   "source": [
    "df = df.drop(columns='type')"
   ]
  },
  {
   "cell_type": "code",
   "execution_count": 6,
   "metadata": {},
   "outputs": [],
   "source": [
    "df['date'] = pd.to_datetime(df['date'])"
   ]
  },
  {
   "cell_type": "code",
   "execution_count": 7,
   "metadata": {},
   "outputs": [],
   "source": [
    "df['year']= df['date'].dt.year\n",
    "df['month']= df['date'].dt.month\n",
    "df['day']= df['date'].dt.day"
   ]
  },
  {
   "cell_type": "code",
   "execution_count": 8,
   "metadata": {},
   "outputs": [],
   "source": [
    "df['hour'] = pd.to_datetime(df['time']).dt.hour"
   ]
  },
  {
   "cell_type": "code",
   "execution_count": 9,
   "metadata": {},
   "outputs": [],
   "source": [
    "df['frisked'] = df['frisk_performed'].map({True: 1, False: 0})"
   ]
  },
  {
   "cell_type": "code",
   "execution_count": 10,
   "metadata": {},
   "outputs": [],
   "source": [
    "df['vehicle_searched'] = df['vehicle_searched'].map({'YES': 1, 'NO': 0})"
   ]
  },
  {
   "cell_type": "code",
   "execution_count": 11,
   "metadata": {},
   "outputs": [],
   "source": [
    "df['searched'] = df['search_conducted'].map({True: 1, False: 0})"
   ]
  },
  {
   "cell_type": "code",
   "execution_count": 12,
   "metadata": {},
   "outputs": [],
   "source": [
    "df['citation_issued'] = df['citation_issued'].map({True: 1, False: 0})"
   ]
  },
  {
   "cell_type": "code",
   "execution_count": 13,
   "metadata": {},
   "outputs": [],
   "source": [
    "df['outcome'] = df['outcome'].map({'citation': 1, 'warning': 0})"
   ]
  },
  {
   "cell_type": "code",
   "execution_count": 14,
   "metadata": {},
   "outputs": [],
   "source": [
    "df = df.drop(columns='subject_race')"
   ]
  },
  {
   "cell_type": "code",
   "execution_count": 15,
   "metadata": {},
   "outputs": [],
   "source": [
    "df['subject_race'] = df['raw_driver_race']"
   ]
  },
  {
   "cell_type": "code",
   "execution_count": 16,
   "metadata": {},
   "outputs": [],
   "source": [
    "df = df.drop(columns='raw_driver_race')"
   ]
  },
  {
   "cell_type": "code",
   "execution_count": 17,
   "metadata": {},
   "outputs": [],
   "source": [
    "df['subject_race'] = df['subject_race'].map({'BLACK': 'Black', 'WHITE': 'white', 'HISPANIC': 'Latino', 'MIDDLE EASTERN DESCENT': 'Middle Eastern', 'ASIAN/PACIFIC ISLANDER': 'Asian', 'INDIAN/INDIA/BURMESE': 'Asian', 'AMERICAN INDIAN': 'Native American', 'ALASKAN NATIVE': 'Native American', 'UNKNOWN': 'Unknown'})"
   ]
  },
  {
   "cell_type": "code",
   "execution_count": 18,
   "metadata": {},
   "outputs": [],
   "source": [
    "df['officer_race'] = df['officer_race'].map({'asian/pacific islander': 'Asian', 'black': 'Black', 'hispanic': 'Latino', 'other': 'Other', 'white': 'white'})"
   ]
  },
  {
   "cell_type": "code",
   "execution_count": 19,
   "metadata": {},
   "outputs": [],
   "source": [
    "df = df.drop(columns=['warning_issued', 'outcome', 'vehicle_searched', 'search_conducted', 'frisk_performed'])"
   ]
  },
  {
   "cell_type": "code",
   "execution_count": 20,
   "metadata": {},
   "outputs": [],
   "source": [
    "df = df.rename(columns={'subject_age': 'citizen_age', 'subject_gender': 'citizen_gender', 'subject_race': 'citizen_race'})"
   ]
  },
  {
   "cell_type": "code",
   "execution_count": null,
   "metadata": {},
   "outputs": [],
   "source": []
  },
  {
   "cell_type": "code",
   "execution_count": 21,
   "metadata": {
    "scrolled": true
   },
   "outputs": [],
   "source": [
    "df = df[['year', 'month', 'day', 'hour', 'citizen_race', 'citizen_gender', 'citizen_age' , 'officer_race', 'officer_gender', 'division', 'beat', 'violation', 'frisked', 'searched', 'citation_issued', 'date', 'time', 'lat', 'lng']]"
   ]
  },
  {
   "cell_type": "code",
   "execution_count": 22,
   "metadata": {},
   "outputs": [
    {
     "data": {
      "text/html": [
       "<div>\n",
       "<style scoped>\n",
       "    .dataframe tbody tr th:only-of-type {\n",
       "        vertical-align: middle;\n",
       "    }\n",
       "\n",
       "    .dataframe tbody tr th {\n",
       "        vertical-align: top;\n",
       "    }\n",
       "\n",
       "    .dataframe thead th {\n",
       "        text-align: right;\n",
       "    }\n",
       "</style>\n",
       "<table border=\"1\" class=\"dataframe\">\n",
       "  <thead>\n",
       "    <tr style=\"text-align: right;\">\n",
       "      <th></th>\n",
       "      <th>year</th>\n",
       "      <th>month</th>\n",
       "      <th>day</th>\n",
       "      <th>hour</th>\n",
       "      <th>citizen_race</th>\n",
       "      <th>citizen_gender</th>\n",
       "      <th>citizen_age</th>\n",
       "      <th>officer_race</th>\n",
       "      <th>officer_gender</th>\n",
       "      <th>division</th>\n",
       "      <th>beat</th>\n",
       "      <th>violation</th>\n",
       "      <th>frisked</th>\n",
       "      <th>searched</th>\n",
       "      <th>citation_issued</th>\n",
       "      <th>date</th>\n",
       "      <th>time</th>\n",
       "      <th>lat</th>\n",
       "      <th>lng</th>\n",
       "    </tr>\n",
       "  </thead>\n",
       "  <tbody>\n",
       "    <tr>\n",
       "      <th>0</th>\n",
       "      <td>2015.0</td>\n",
       "      <td>1.0</td>\n",
       "      <td>1.0</td>\n",
       "      <td>22.0</td>\n",
       "      <td>white</td>\n",
       "      <td>male</td>\n",
       "      <td>53.0</td>\n",
       "      <td>Asian</td>\n",
       "      <td>female</td>\n",
       "      <td>6TH DIVISION</td>\n",
       "      <td>BEAT 1</td>\n",
       "      <td>FAIL OF NON-OWNER/OPER TO MAINTAIN REQ INS/SEC...</td>\n",
       "      <td>0</td>\n",
       "      <td>0</td>\n",
       "      <td>1</td>\n",
       "      <td>2015-01-01</td>\n",
       "      <td>22:39:00</td>\n",
       "      <td>38.210850</td>\n",
       "      <td>-85.740058</td>\n",
       "    </tr>\n",
       "    <tr>\n",
       "      <th>1</th>\n",
       "      <td>2015.0</td>\n",
       "      <td>1.0</td>\n",
       "      <td>2.0</td>\n",
       "      <td>16.0</td>\n",
       "      <td>white</td>\n",
       "      <td>male</td>\n",
       "      <td>NaN</td>\n",
       "      <td>Asian</td>\n",
       "      <td>female</td>\n",
       "      <td>6TH DIVISION</td>\n",
       "      <td>BEAT 5</td>\n",
       "      <td>NaN</td>\n",
       "      <td>0</td>\n",
       "      <td>0</td>\n",
       "      <td>1</td>\n",
       "      <td>2015-01-02</td>\n",
       "      <td>16:42:00</td>\n",
       "      <td>38.203829</td>\n",
       "      <td>-85.665319</td>\n",
       "    </tr>\n",
       "    <tr>\n",
       "      <th>2</th>\n",
       "      <td>2015.0</td>\n",
       "      <td>1.0</td>\n",
       "      <td>2.0</td>\n",
       "      <td>20.0</td>\n",
       "      <td>Black</td>\n",
       "      <td>female</td>\n",
       "      <td>NaN</td>\n",
       "      <td>Asian</td>\n",
       "      <td>female</td>\n",
       "      <td>6TH DIVISION</td>\n",
       "      <td>BEAT 5</td>\n",
       "      <td>NaN</td>\n",
       "      <td>0</td>\n",
       "      <td>0</td>\n",
       "      <td>0</td>\n",
       "      <td>2015-01-02</td>\n",
       "      <td>20:00:00</td>\n",
       "      <td>38.205311</td>\n",
       "      <td>-85.650115</td>\n",
       "    </tr>\n",
       "    <tr>\n",
       "      <th>3</th>\n",
       "      <td>2015.0</td>\n",
       "      <td>1.0</td>\n",
       "      <td>2.0</td>\n",
       "      <td>20.0</td>\n",
       "      <td>Black</td>\n",
       "      <td>male</td>\n",
       "      <td>24.0</td>\n",
       "      <td>Asian</td>\n",
       "      <td>female</td>\n",
       "      <td>6TH DIVISION</td>\n",
       "      <td>BEAT 5</td>\n",
       "      <td>OPERATING ON SUSPENDED/REVOKED OPERATORS LICEN...</td>\n",
       "      <td>0</td>\n",
       "      <td>1</td>\n",
       "      <td>1</td>\n",
       "      <td>2015-01-02</td>\n",
       "      <td>20:35:00</td>\n",
       "      <td>38.202592</td>\n",
       "      <td>-85.654212</td>\n",
       "    </tr>\n",
       "    <tr>\n",
       "      <th>4</th>\n",
       "      <td>2015.0</td>\n",
       "      <td>1.0</td>\n",
       "      <td>11.0</td>\n",
       "      <td>17.0</td>\n",
       "      <td>Black</td>\n",
       "      <td>male</td>\n",
       "      <td>24.0</td>\n",
       "      <td>Asian</td>\n",
       "      <td>female</td>\n",
       "      <td>6TH DIVISION</td>\n",
       "      <td>BEAT 2</td>\n",
       "      <td>NO OR EXPIRED REGISTRATION PLATES|FAILURE OF O...</td>\n",
       "      <td>0</td>\n",
       "      <td>0</td>\n",
       "      <td>1</td>\n",
       "      <td>2015-01-11</td>\n",
       "      <td>17:20:00</td>\n",
       "      <td>38.156730</td>\n",
       "      <td>-85.696997</td>\n",
       "    </tr>\n",
       "  </tbody>\n",
       "</table>\n",
       "</div>"
      ],
      "text/plain": [
       "     year  month   day  hour citizen_race citizen_gender  citizen_age  \\\n",
       "0  2015.0    1.0   1.0  22.0        white           male         53.0   \n",
       "1  2015.0    1.0   2.0  16.0        white           male          NaN   \n",
       "2  2015.0    1.0   2.0  20.0        Black         female          NaN   \n",
       "3  2015.0    1.0   2.0  20.0        Black           male         24.0   \n",
       "4  2015.0    1.0  11.0  17.0        Black           male         24.0   \n",
       "\n",
       "  officer_race officer_gender      division    beat  \\\n",
       "0        Asian         female  6TH DIVISION  BEAT 1   \n",
       "1        Asian         female  6TH DIVISION  BEAT 5   \n",
       "2        Asian         female  6TH DIVISION  BEAT 5   \n",
       "3        Asian         female  6TH DIVISION  BEAT 5   \n",
       "4        Asian         female  6TH DIVISION  BEAT 2   \n",
       "\n",
       "                                           violation  frisked  searched  \\\n",
       "0  FAIL OF NON-OWNER/OPER TO MAINTAIN REQ INS/SEC...        0         0   \n",
       "1                                                NaN        0         0   \n",
       "2                                                NaN        0         0   \n",
       "3  OPERATING ON SUSPENDED/REVOKED OPERATORS LICEN...        0         1   \n",
       "4  NO OR EXPIRED REGISTRATION PLATES|FAILURE OF O...        0         0   \n",
       "\n",
       "   citation_issued       date      time        lat        lng  \n",
       "0                1 2015-01-01  22:39:00  38.210850 -85.740058  \n",
       "1                1 2015-01-02  16:42:00  38.203829 -85.665319  \n",
       "2                0 2015-01-02  20:00:00  38.205311 -85.650115  \n",
       "3                1 2015-01-02  20:35:00  38.202592 -85.654212  \n",
       "4                1 2015-01-11  17:20:00  38.156730 -85.696997  "
      ]
     },
     "execution_count": 22,
     "metadata": {},
     "output_type": "execute_result"
    }
   ],
   "source": [
    "df.head()"
   ]
  },
  {
   "cell_type": "code",
   "execution_count": null,
   "metadata": {},
   "outputs": [],
   "source": []
  },
  {
   "cell_type": "code",
   "execution_count": null,
   "metadata": {},
   "outputs": [],
   "source": [
    "\n"
   ]
  },
  {
   "cell_type": "code",
   "execution_count": null,
   "metadata": {},
   "outputs": [],
   "source": []
  },
  {
   "cell_type": "code",
   "execution_count": null,
   "metadata": {},
   "outputs": [],
   "source": []
  },
  {
   "cell_type": "code",
   "execution_count": null,
   "metadata": {},
   "outputs": [],
   "source": []
  },
  {
   "cell_type": "code",
   "execution_count": null,
   "metadata": {},
   "outputs": [],
   "source": []
  },
  {
   "cell_type": "code",
   "execution_count": null,
   "metadata": {},
   "outputs": [],
   "source": []
  }
 ],
 "metadata": {
  "kernelspec": {
   "display_name": "Python 3",
   "language": "python",
   "name": "python3"
  },
  "language_info": {
   "codemirror_mode": {
    "name": "ipython",
    "version": 3
   },
   "file_extension": ".py",
   "mimetype": "text/x-python",
   "name": "python",
   "nbconvert_exporter": "python",
   "pygments_lexer": "ipython3",
   "version": "3.7.9"
  }
 },
 "nbformat": 4,
 "nbformat_minor": 4
}
