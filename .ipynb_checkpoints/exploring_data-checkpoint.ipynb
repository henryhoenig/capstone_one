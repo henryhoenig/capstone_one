{
 "cells": [
  {
   "cell_type": "code",
   "execution_count": 1,
   "metadata": {},
   "outputs": [],
   "source": [
    "import pandas as pd\n",
    "import numpy as np\n",
    "import scipy as sp\n",
    "import scipy.stats as stats\n",
    "import matplotlib.pyplot as plt"
   ]
  },
  {
   "cell_type": "code",
   "execution_count": 2,
   "metadata": {},
   "outputs": [],
   "source": [
    "df = pd.read_csv('data/clean_stop_data.csv')"
   ]
  },
  {
   "cell_type": "code",
   "execution_count": 3,
   "metadata": {
    "scrolled": true
   },
   "outputs": [
    {
     "data": {
      "text/html": [
       "<div>\n",
       "<style scoped>\n",
       "    .dataframe tbody tr th:only-of-type {\n",
       "        vertical-align: middle;\n",
       "    }\n",
       "\n",
       "    .dataframe tbody tr th {\n",
       "        vertical-align: top;\n",
       "    }\n",
       "\n",
       "    .dataframe thead th {\n",
       "        text-align: right;\n",
       "    }\n",
       "</style>\n",
       "<table border=\"1\" class=\"dataframe\">\n",
       "  <thead>\n",
       "    <tr style=\"text-align: right;\">\n",
       "      <th></th>\n",
       "      <th>year</th>\n",
       "      <th>month</th>\n",
       "      <th>day</th>\n",
       "      <th>hour</th>\n",
       "      <th>citizen_race</th>\n",
       "      <th>citizen_gender</th>\n",
       "      <th>citizen_age</th>\n",
       "      <th>officer_race</th>\n",
       "      <th>officer_gender</th>\n",
       "      <th>division</th>\n",
       "      <th>beat</th>\n",
       "      <th>violation</th>\n",
       "      <th>frisked</th>\n",
       "      <th>searched</th>\n",
       "      <th>citation_issued</th>\n",
       "      <th>date</th>\n",
       "      <th>time</th>\n",
       "      <th>lat</th>\n",
       "      <th>lng</th>\n",
       "    </tr>\n",
       "  </thead>\n",
       "  <tbody>\n",
       "    <tr>\n",
       "      <th>0</th>\n",
       "      <td>2015.0</td>\n",
       "      <td>1.0</td>\n",
       "      <td>1.0</td>\n",
       "      <td>22.0</td>\n",
       "      <td>white</td>\n",
       "      <td>male</td>\n",
       "      <td>53.0</td>\n",
       "      <td>Asian</td>\n",
       "      <td>female</td>\n",
       "      <td>6TH DIVISION</td>\n",
       "      <td>BEAT 1</td>\n",
       "      <td>FAIL OF NON-OWNER/OPER TO MAINTAIN REQ INS/SEC...</td>\n",
       "      <td>0</td>\n",
       "      <td>0</td>\n",
       "      <td>1</td>\n",
       "      <td>2015-01-01</td>\n",
       "      <td>22:39:00</td>\n",
       "      <td>38.210850</td>\n",
       "      <td>-85.740058</td>\n",
       "    </tr>\n",
       "    <tr>\n",
       "      <th>1</th>\n",
       "      <td>2015.0</td>\n",
       "      <td>1.0</td>\n",
       "      <td>2.0</td>\n",
       "      <td>16.0</td>\n",
       "      <td>white</td>\n",
       "      <td>male</td>\n",
       "      <td>NaN</td>\n",
       "      <td>Asian</td>\n",
       "      <td>female</td>\n",
       "      <td>6TH DIVISION</td>\n",
       "      <td>BEAT 5</td>\n",
       "      <td>NaN</td>\n",
       "      <td>0</td>\n",
       "      <td>0</td>\n",
       "      <td>1</td>\n",
       "      <td>2015-01-02</td>\n",
       "      <td>16:42:00</td>\n",
       "      <td>38.203829</td>\n",
       "      <td>-85.665319</td>\n",
       "    </tr>\n",
       "    <tr>\n",
       "      <th>2</th>\n",
       "      <td>2015.0</td>\n",
       "      <td>1.0</td>\n",
       "      <td>2.0</td>\n",
       "      <td>20.0</td>\n",
       "      <td>Black</td>\n",
       "      <td>female</td>\n",
       "      <td>NaN</td>\n",
       "      <td>Asian</td>\n",
       "      <td>female</td>\n",
       "      <td>6TH DIVISION</td>\n",
       "      <td>BEAT 5</td>\n",
       "      <td>NaN</td>\n",
       "      <td>0</td>\n",
       "      <td>0</td>\n",
       "      <td>0</td>\n",
       "      <td>2015-01-02</td>\n",
       "      <td>20:00:00</td>\n",
       "      <td>38.205311</td>\n",
       "      <td>-85.650115</td>\n",
       "    </tr>\n",
       "    <tr>\n",
       "      <th>3</th>\n",
       "      <td>2015.0</td>\n",
       "      <td>1.0</td>\n",
       "      <td>2.0</td>\n",
       "      <td>20.0</td>\n",
       "      <td>Black</td>\n",
       "      <td>male</td>\n",
       "      <td>24.0</td>\n",
       "      <td>Asian</td>\n",
       "      <td>female</td>\n",
       "      <td>6TH DIVISION</td>\n",
       "      <td>BEAT 5</td>\n",
       "      <td>OPERATING ON SUSPENDED/REVOKED OPERATORS LICEN...</td>\n",
       "      <td>0</td>\n",
       "      <td>1</td>\n",
       "      <td>1</td>\n",
       "      <td>2015-01-02</td>\n",
       "      <td>20:35:00</td>\n",
       "      <td>38.202592</td>\n",
       "      <td>-85.654212</td>\n",
       "    </tr>\n",
       "    <tr>\n",
       "      <th>4</th>\n",
       "      <td>2015.0</td>\n",
       "      <td>1.0</td>\n",
       "      <td>11.0</td>\n",
       "      <td>17.0</td>\n",
       "      <td>Black</td>\n",
       "      <td>male</td>\n",
       "      <td>24.0</td>\n",
       "      <td>Asian</td>\n",
       "      <td>female</td>\n",
       "      <td>6TH DIVISION</td>\n",
       "      <td>BEAT 2</td>\n",
       "      <td>NO OR EXPIRED REGISTRATION PLATES|FAILURE OF O...</td>\n",
       "      <td>0</td>\n",
       "      <td>0</td>\n",
       "      <td>1</td>\n",
       "      <td>2015-01-11</td>\n",
       "      <td>17:20:00</td>\n",
       "      <td>38.156730</td>\n",
       "      <td>-85.696997</td>\n",
       "    </tr>\n",
       "  </tbody>\n",
       "</table>\n",
       "</div>"
      ],
      "text/plain": [
       "     year  month   day  hour citizen_race citizen_gender  citizen_age  \\\n",
       "0  2015.0    1.0   1.0  22.0        white           male         53.0   \n",
       "1  2015.0    1.0   2.0  16.0        white           male          NaN   \n",
       "2  2015.0    1.0   2.0  20.0        Black         female          NaN   \n",
       "3  2015.0    1.0   2.0  20.0        Black           male         24.0   \n",
       "4  2015.0    1.0  11.0  17.0        Black           male         24.0   \n",
       "\n",
       "  officer_race officer_gender      division    beat  \\\n",
       "0        Asian         female  6TH DIVISION  BEAT 1   \n",
       "1        Asian         female  6TH DIVISION  BEAT 5   \n",
       "2        Asian         female  6TH DIVISION  BEAT 5   \n",
       "3        Asian         female  6TH DIVISION  BEAT 5   \n",
       "4        Asian         female  6TH DIVISION  BEAT 2   \n",
       "\n",
       "                                           violation  frisked  searched  \\\n",
       "0  FAIL OF NON-OWNER/OPER TO MAINTAIN REQ INS/SEC...        0         0   \n",
       "1                                                NaN        0         0   \n",
       "2                                                NaN        0         0   \n",
       "3  OPERATING ON SUSPENDED/REVOKED OPERATORS LICEN...        0         1   \n",
       "4  NO OR EXPIRED REGISTRATION PLATES|FAILURE OF O...        0         0   \n",
       "\n",
       "   citation_issued        date      time        lat        lng  \n",
       "0                1  2015-01-01  22:39:00  38.210850 -85.740058  \n",
       "1                1  2015-01-02  16:42:00  38.203829 -85.665319  \n",
       "2                0  2015-01-02  20:00:00  38.205311 -85.650115  \n",
       "3                1  2015-01-02  20:35:00  38.202592 -85.654212  \n",
       "4                1  2015-01-11  17:20:00  38.156730 -85.696997  "
      ]
     },
     "execution_count": 3,
     "metadata": {},
     "output_type": "execute_result"
    }
   ],
   "source": [
    "df.head()"
   ]
  },
  {
   "cell_type": "code",
   "execution_count": 4,
   "metadata": {},
   "outputs": [],
   "source": [
    "overview = df.groupby('citizen_race').aggregate(np.sum)[['frisked', 'searched', 'citation_issued']]"
   ]
  },
  {
   "cell_type": "code",
   "execution_count": 213,
   "metadata": {},
   "outputs": [
    {
     "name": "stdout",
     "output_type": "stream",
     "text": [
      "<class 'pandas.core.frame.DataFrame'>\n",
      "RangeIndex: 110960 entries, 0 to 110959\n",
      "Data columns (total 19 columns):\n",
      " #   Column           Non-Null Count   Dtype  \n",
      "---  ------           --------------   -----  \n",
      " 0   year             110959 non-null  float64\n",
      " 1   month            110959 non-null  float64\n",
      " 2   day              110959 non-null  float64\n",
      " 3   hour             110926 non-null  float64\n",
      " 4   citizen_race     110048 non-null  object \n",
      " 5   citizen_gender   110924 non-null  object \n",
      " 6   citizen_age      81283 non-null   float64\n",
      " 7   officer_race     110804 non-null  object \n",
      " 8   officer_gender   110804 non-null  object \n",
      " 9   division         106767 non-null  object \n",
      " 10  beat             106817 non-null  object \n",
      " 11  violation        81300 non-null   object \n",
      " 12  frisked          110960 non-null  int64  \n",
      " 13  searched         110960 non-null  int64  \n",
      " 14  citation_issued  110960 non-null  int64  \n",
      " 15  date             110959 non-null  object \n",
      " 16  time             110926 non-null  object \n",
      " 17  lat              110507 non-null  float64\n",
      " 18  lng              110507 non-null  float64\n",
      "dtypes: float64(7), int64(3), object(9)\n",
      "memory usage: 16.1+ MB\n"
     ]
    }
   ],
   "source": [
    "df.info()"
   ]
  },
  {
   "cell_type": "code",
   "execution_count": 5,
   "metadata": {},
   "outputs": [],
   "source": [
    "stops = pd.Series(df.citizen_race.value_counts())\n",
    "overview['stops'] = stops\n",
    "overview = overview[['stops', 'searched', 'frisked', 'citation_issued']]\n",
    "overview['pop'] = pd.Series({'Black': 171781, 'white': 546872, 'Native American': 1302, 'Asian': 22829, 'Latino': 45355})"
   ]
  },
  {
   "cell_type": "code",
   "execution_count": 6,
   "metadata": {},
   "outputs": [],
   "source": [
    "overview['% ethnicity frisked'] = ((overview['frisked'] / overview['stops']) * 100).round(2)\n",
    "overview['% ethnicity searched'] = ((overview['searched'] / overview['stops']) * 100).round(2)\n",
    "overview['% ethnicity cited'] = ((overview['citation_issued'] / overview['stops']) * 100).round(2)\n",
    "overview['% of population'] = ((overview['pop'] / 766000) * 100).round(2)\n",
    "overview['% of all stops'] = ((overview['stops'] / df.year.count()) * 100).round(2)\n",
    "overview['% of all searches'] = ((overview['searched'] / df.searched.sum()) * 100).round(2)\n",
    "overview['% of all citations'] = ((overview['citation_issued'] / df.citation_issued.sum()) * 100).round(2)"
   ]
  },
  {
   "cell_type": "code",
   "execution_count": 7,
   "metadata": {},
   "outputs": [
    {
     "data": {
      "text/html": [
       "<div>\n",
       "<style scoped>\n",
       "    .dataframe tbody tr th:only-of-type {\n",
       "        vertical-align: middle;\n",
       "    }\n",
       "\n",
       "    .dataframe tbody tr th {\n",
       "        vertical-align: top;\n",
       "    }\n",
       "\n",
       "    .dataframe thead th {\n",
       "        text-align: right;\n",
       "    }\n",
       "</style>\n",
       "<table border=\"1\" class=\"dataframe\">\n",
       "  <thead>\n",
       "    <tr style=\"text-align: right;\">\n",
       "      <th></th>\n",
       "      <th>stops</th>\n",
       "      <th>searched</th>\n",
       "      <th>frisked</th>\n",
       "      <th>citation_issued</th>\n",
       "      <th>pop</th>\n",
       "      <th>% ethnicity frisked</th>\n",
       "      <th>% ethnicity searched</th>\n",
       "      <th>% ethnicity cited</th>\n",
       "      <th>% of population</th>\n",
       "      <th>% of all stops</th>\n",
       "      <th>% of all searches</th>\n",
       "      <th>% of all citations</th>\n",
       "    </tr>\n",
       "    <tr>\n",
       "      <th>citizen_race</th>\n",
       "      <th></th>\n",
       "      <th></th>\n",
       "      <th></th>\n",
       "      <th></th>\n",
       "      <th></th>\n",
       "      <th></th>\n",
       "      <th></th>\n",
       "      <th></th>\n",
       "      <th></th>\n",
       "      <th></th>\n",
       "      <th></th>\n",
       "      <th></th>\n",
       "    </tr>\n",
       "  </thead>\n",
       "  <tbody>\n",
       "    <tr>\n",
       "      <th>Asian</th>\n",
       "      <td>411</td>\n",
       "      <td>25</td>\n",
       "      <td>0</td>\n",
       "      <td>60</td>\n",
       "      <td>22829.0</td>\n",
       "      <td>0.00</td>\n",
       "      <td>6.08</td>\n",
       "      <td>14.60</td>\n",
       "      <td>2.98</td>\n",
       "      <td>0.37</td>\n",
       "      <td>0.36</td>\n",
       "      <td>0.07</td>\n",
       "    </tr>\n",
       "    <tr>\n",
       "      <th>Black</th>\n",
       "      <td>34943</td>\n",
       "      <td>3125</td>\n",
       "      <td>9</td>\n",
       "      <td>23494</td>\n",
       "      <td>171781.0</td>\n",
       "      <td>0.03</td>\n",
       "      <td>8.94</td>\n",
       "      <td>67.24</td>\n",
       "      <td>22.43</td>\n",
       "      <td>31.49</td>\n",
       "      <td>45.38</td>\n",
       "      <td>28.60</td>\n",
       "    </tr>\n",
       "    <tr>\n",
       "      <th>Latino</th>\n",
       "      <td>4843</td>\n",
       "      <td>254</td>\n",
       "      <td>0</td>\n",
       "      <td>3536</td>\n",
       "      <td>45355.0</td>\n",
       "      <td>0.00</td>\n",
       "      <td>5.24</td>\n",
       "      <td>73.01</td>\n",
       "      <td>5.92</td>\n",
       "      <td>4.36</td>\n",
       "      <td>3.69</td>\n",
       "      <td>4.30</td>\n",
       "    </tr>\n",
       "    <tr>\n",
       "      <th>Middle Eastern</th>\n",
       "      <td>444</td>\n",
       "      <td>38</td>\n",
       "      <td>0</td>\n",
       "      <td>57</td>\n",
       "      <td>NaN</td>\n",
       "      <td>0.00</td>\n",
       "      <td>8.56</td>\n",
       "      <td>12.84</td>\n",
       "      <td>NaN</td>\n",
       "      <td>0.40</td>\n",
       "      <td>0.55</td>\n",
       "      <td>0.07</td>\n",
       "    </tr>\n",
       "    <tr>\n",
       "      <th>Native American</th>\n",
       "      <td>65</td>\n",
       "      <td>2</td>\n",
       "      <td>0</td>\n",
       "      <td>50</td>\n",
       "      <td>1302.0</td>\n",
       "      <td>0.00</td>\n",
       "      <td>3.08</td>\n",
       "      <td>76.92</td>\n",
       "      <td>0.17</td>\n",
       "      <td>0.06</td>\n",
       "      <td>0.03</td>\n",
       "      <td>0.06</td>\n",
       "    </tr>\n",
       "    <tr>\n",
       "      <th>Unknown</th>\n",
       "      <td>2</td>\n",
       "      <td>0</td>\n",
       "      <td>0</td>\n",
       "      <td>2</td>\n",
       "      <td>NaN</td>\n",
       "      <td>0.00</td>\n",
       "      <td>0.00</td>\n",
       "      <td>100.00</td>\n",
       "      <td>NaN</td>\n",
       "      <td>0.00</td>\n",
       "      <td>0.00</td>\n",
       "      <td>0.00</td>\n",
       "    </tr>\n",
       "    <tr>\n",
       "      <th>white</th>\n",
       "      <td>69340</td>\n",
       "      <td>3435</td>\n",
       "      <td>7</td>\n",
       "      <td>54073</td>\n",
       "      <td>546872.0</td>\n",
       "      <td>0.01</td>\n",
       "      <td>4.95</td>\n",
       "      <td>77.98</td>\n",
       "      <td>71.39</td>\n",
       "      <td>62.49</td>\n",
       "      <td>49.88</td>\n",
       "      <td>65.81</td>\n",
       "    </tr>\n",
       "  </tbody>\n",
       "</table>\n",
       "</div>"
      ],
      "text/plain": [
       "                 stops  searched  frisked  citation_issued       pop  \\\n",
       "citizen_race                                                           \n",
       "Asian              411        25        0               60   22829.0   \n",
       "Black            34943      3125        9            23494  171781.0   \n",
       "Latino            4843       254        0             3536   45355.0   \n",
       "Middle Eastern     444        38        0               57       NaN   \n",
       "Native American     65         2        0               50    1302.0   \n",
       "Unknown              2         0        0                2       NaN   \n",
       "white            69340      3435        7            54073  546872.0   \n",
       "\n",
       "                 % ethnicity frisked  % ethnicity searched  % ethnicity cited  \\\n",
       "citizen_race                                                                    \n",
       "Asian                           0.00                  6.08              14.60   \n",
       "Black                           0.03                  8.94              67.24   \n",
       "Latino                          0.00                  5.24              73.01   \n",
       "Middle Eastern                  0.00                  8.56              12.84   \n",
       "Native American                 0.00                  3.08              76.92   \n",
       "Unknown                         0.00                  0.00             100.00   \n",
       "white                           0.01                  4.95              77.98   \n",
       "\n",
       "                 % of population  % of all stops  % of all searches  \\\n",
       "citizen_race                                                          \n",
       "Asian                       2.98            0.37               0.36   \n",
       "Black                      22.43           31.49              45.38   \n",
       "Latino                      5.92            4.36               3.69   \n",
       "Middle Eastern               NaN            0.40               0.55   \n",
       "Native American             0.17            0.06               0.03   \n",
       "Unknown                      NaN            0.00               0.00   \n",
       "white                      71.39           62.49              49.88   \n",
       "\n",
       "                 % of all citations  \n",
       "citizen_race                         \n",
       "Asian                          0.07  \n",
       "Black                         28.60  \n",
       "Latino                         4.30  \n",
       "Middle Eastern                 0.07  \n",
       "Native American                0.06  \n",
       "Unknown                        0.00  \n",
       "white                         65.81  "
      ]
     },
     "execution_count": 7,
     "metadata": {},
     "output_type": "execute_result"
    }
   ],
   "source": [
    "overview"
   ]
  },
  {
   "cell_type": "code",
   "execution_count": null,
   "metadata": {},
   "outputs": [],
   "source": [
    "overview[]"
   ]
  },
  {
   "cell_type": "code",
   "execution_count": 9,
   "metadata": {
    "scrolled": true
   },
   "outputs": [],
   "source": [
    "pct_pop = [overview.loc['Asian', '% of population'], overview.loc['Black', '% of population'], overview.loc['Latino', '% of population'], overview.loc['white', '% of population']]\n",
    "pct_all_stops = [overview.loc['Asian', '% of all stops'], overview.loc['Black', '% of all stops'], overview.loc['Latino', '% of all stops'], overview.loc['white', '% of all stops']]\n",
    "pct_all_searches = [overview.loc['Asian', '% of all searches'], overview.loc['Black', '% of all searches'], overview.loc['Latino', '% of all searches'], overview.loc['white', '% of all searches']]             \n",
    "pct_all_citations = [overview.loc['Asian', '% of all citations'], overview.loc['Black', '% of all citations'], overview.loc['Latino', '% of all citations'], overview.loc['white', '% of all citations']]"
   ]
  },
  {
   "cell_type": "code",
   "execution_count": 47,
   "metadata": {},
   "outputs": [
    {
     "data": {
      "image/png": "[encoded data removed]",
      "text/plain": [
       "<Figure size 720x360 with 1 Axes>"
      ]
     },
     "metadata": {
      "needs_background": "light"
     },
     "output_type": "display_data"
    }
   ],
   "source": [
    "labels = ['Asian', 'Black', 'Latino', 'white']\n",
    "\n",
    "x = np.arange(len(labels))  # the label locations\n",
    "width = 0.2  # the width of the bars\n",
    "spacing = 0.52\n",
    "\n",
    "fig, ax = plt.subplots(figsize=(10,5))\n",
    "rects1 = ax.bar(x, pct_pop, width, label='% of population')\n",
    "rects2 = ax.bar(x + spacing/3, pct_all_stops, width, label='% of all stops')\n",
    "rects3 = ax.bar(x + (2*spacing)/3, pct_all_searches, width, label='% of all searches')\n",
    "rects4 = ax.bar(x + spacing, pct_all_citations, width, label='% of all citations')\n",
    "\n",
    "\n",
    "# Add some text for labels, title and custom x-axis tick labels, etc.\n",
    "ax.set_ylabel('Percentage')\n",
    "ax.set_title('Percentage of population vs all stops, searches, and citations')\n",
    "ax.set_xticks(x)\n",
    "ax.set_xticklabels(labels)\n",
    "ax.legend()\n",
    "\n",
    "\n",
    "def autolabel(rects):\n",
    "    \"\"\"Attach a text label above each bar in *rects*, displaying its height.\"\"\"\n",
    "    for rect in rects:\n",
    "        height = rect.get_height()\n",
    "        ax.annotate('{}'.format(height),\n",
    "                    xy=(rect.get_x() + rect.get_width() / 2, height),\n",
    "                    xytext=(0, 3),  # 3 points vertical offset\n",
    "                    textcoords=\"offset points\",\n",
    "                    ha='center', va='bottom')\n",
    "\n",
    "\n",
    "autolabel(rects1)\n",
    "autolabel(rects2)\n",
    "autolabel(rects3)\n",
    "autolabel(rects4)\n",
    "\n",
    "#fig.tight_layout(w_pad=2)\n",
    "fig.tight_layout()\n",
    "plt.show()"
   ]
  },
  {
   "cell_type": "code",
   "execution_count": 67,
   "metadata": {},
   "outputs": [
    {
     "data": {
      "text/html": [
       "<div>\n",
       "<style scoped>\n",
       "    .dataframe tbody tr th:only-of-type {\n",
       "        vertical-align: middle;\n",
       "    }\n",
       "\n",
       "    .dataframe tbody tr th {\n",
       "        vertical-align: top;\n",
       "    }\n",
       "\n",
       "    .dataframe thead th {\n",
       "        text-align: right;\n",
       "    }\n",
       "</style>\n",
       "<table border=\"1\" class=\"dataframe\">\n",
       "  <thead>\n",
       "    <tr style=\"text-align: right;\">\n",
       "      <th></th>\n",
       "      <th>stops</th>\n",
       "      <th>searched</th>\n",
       "      <th>frisked</th>\n",
       "      <th>citation_issued</th>\n",
       "      <th>pop</th>\n",
       "      <th>% ethnicity frisked</th>\n",
       "      <th>% ethnicity searched</th>\n",
       "      <th>% ethnicity cited</th>\n",
       "      <th>% of population</th>\n",
       "      <th>% of all stops</th>\n",
       "      <th>% of all searches</th>\n",
       "      <th>% of all citations</th>\n",
       "    </tr>\n",
       "    <tr>\n",
       "      <th>citizen_race</th>\n",
       "      <th></th>\n",
       "      <th></th>\n",
       "      <th></th>\n",
       "      <th></th>\n",
       "      <th></th>\n",
       "      <th></th>\n",
       "      <th></th>\n",
       "      <th></th>\n",
       "      <th></th>\n",
       "      <th></th>\n",
       "      <th></th>\n",
       "      <th></th>\n",
       "    </tr>\n",
       "  </thead>\n",
       "  <tbody>\n",
       "    <tr>\n",
       "      <th>Asian</th>\n",
       "      <td>411</td>\n",
       "      <td>25</td>\n",
       "      <td>0</td>\n",
       "      <td>60</td>\n",
       "      <td>22829.0</td>\n",
       "      <td>0.00</td>\n",
       "      <td>6.08</td>\n",
       "      <td>14.60</td>\n",
       "      <td>2.98</td>\n",
       "      <td>0.37</td>\n",
       "      <td>0.36</td>\n",
       "      <td>0.07</td>\n",
       "    </tr>\n",
       "    <tr>\n",
       "      <th>Black</th>\n",
       "      <td>34943</td>\n",
       "      <td>3125</td>\n",
       "      <td>9</td>\n",
       "      <td>23494</td>\n",
       "      <td>171781.0</td>\n",
       "      <td>0.03</td>\n",
       "      <td>8.94</td>\n",
       "      <td>67.24</td>\n",
       "      <td>22.43</td>\n",
       "      <td>31.49</td>\n",
       "      <td>45.38</td>\n",
       "      <td>28.60</td>\n",
       "    </tr>\n",
       "    <tr>\n",
       "      <th>Latino</th>\n",
       "      <td>4843</td>\n",
       "      <td>254</td>\n",
       "      <td>0</td>\n",
       "      <td>3536</td>\n",
       "      <td>45355.0</td>\n",
       "      <td>0.00</td>\n",
       "      <td>5.24</td>\n",
       "      <td>73.01</td>\n",
       "      <td>5.92</td>\n",
       "      <td>4.36</td>\n",
       "      <td>3.69</td>\n",
       "      <td>4.30</td>\n",
       "    </tr>\n",
       "    <tr>\n",
       "      <th>Middle Eastern</th>\n",
       "      <td>444</td>\n",
       "      <td>38</td>\n",
       "      <td>0</td>\n",
       "      <td>57</td>\n",
       "      <td>NaN</td>\n",
       "      <td>0.00</td>\n",
       "      <td>8.56</td>\n",
       "      <td>12.84</td>\n",
       "      <td>NaN</td>\n",
       "      <td>0.40</td>\n",
       "      <td>0.55</td>\n",
       "      <td>0.07</td>\n",
       "    </tr>\n",
       "    <tr>\n",
       "      <th>Native American</th>\n",
       "      <td>65</td>\n",
       "      <td>2</td>\n",
       "      <td>0</td>\n",
       "      <td>50</td>\n",
       "      <td>1302.0</td>\n",
       "      <td>0.00</td>\n",
       "      <td>3.08</td>\n",
       "      <td>76.92</td>\n",
       "      <td>0.17</td>\n",
       "      <td>0.06</td>\n",
       "      <td>0.03</td>\n",
       "      <td>0.06</td>\n",
       "    </tr>\n",
       "    <tr>\n",
       "      <th>Unknown</th>\n",
       "      <td>2</td>\n",
       "      <td>0</td>\n",
       "      <td>0</td>\n",
       "      <td>2</td>\n",
       "      <td>NaN</td>\n",
       "      <td>0.00</td>\n",
       "      <td>0.00</td>\n",
       "      <td>100.00</td>\n",
       "      <td>NaN</td>\n",
       "      <td>0.00</td>\n",
       "      <td>0.00</td>\n",
       "      <td>0.00</td>\n",
       "    </tr>\n",
       "    <tr>\n",
       "      <th>white</th>\n",
       "      <td>69340</td>\n",
       "      <td>3435</td>\n",
       "      <td>7</td>\n",
       "      <td>54073</td>\n",
       "      <td>546872.0</td>\n",
       "      <td>0.01</td>\n",
       "      <td>4.95</td>\n",
       "      <td>77.98</td>\n",
       "      <td>71.39</td>\n",
       "      <td>62.49</td>\n",
       "      <td>49.88</td>\n",
       "      <td>65.81</td>\n",
       "    </tr>\n",
       "  </tbody>\n",
       "</table>\n",
       "</div>"
      ],
      "text/plain": [
       "                 stops  searched  frisked  citation_issued       pop  \\\n",
       "citizen_race                                                           \n",
       "Asian              411        25        0               60   22829.0   \n",
       "Black            34943      3125        9            23494  171781.0   \n",
       "Latino            4843       254        0             3536   45355.0   \n",
       "Middle Eastern     444        38        0               57       NaN   \n",
       "Native American     65         2        0               50    1302.0   \n",
       "Unknown              2         0        0                2       NaN   \n",
       "white            69340      3435        7            54073  546872.0   \n",
       "\n",
       "                 % ethnicity frisked  % ethnicity searched  % ethnicity cited  \\\n",
       "citizen_race                                                                    \n",
       "Asian                           0.00                  6.08              14.60   \n",
       "Black                           0.03                  8.94              67.24   \n",
       "Latino                          0.00                  5.24              73.01   \n",
       "Middle Eastern                  0.00                  8.56              12.84   \n",
       "Native American                 0.00                  3.08              76.92   \n",
       "Unknown                         0.00                  0.00             100.00   \n",
       "white                           0.01                  4.95              77.98   \n",
       "\n",
       "                 % of population  % of all stops  % of all searches  \\\n",
       "citizen_race                                                          \n",
       "Asian                       2.98            0.37               0.36   \n",
       "Black                      22.43           31.49              45.38   \n",
       "Latino                      5.92            4.36               3.69   \n",
       "Middle Eastern               NaN            0.40               0.55   \n",
       "Native American             0.17            0.06               0.03   \n",
       "Unknown                      NaN            0.00               0.00   \n",
       "white                      71.39           62.49              49.88   \n",
       "\n",
       "                 % of all citations  \n",
       "citizen_race                         \n",
       "Asian                          0.07  \n",
       "Black                         28.60  \n",
       "Latino                         4.30  \n",
       "Middle Eastern                 0.07  \n",
       "Native American                0.06  \n",
       "Unknown                        0.00  \n",
       "white                         65.81  "
      ]
     },
     "execution_count": 67,
     "metadata": {},
     "output_type": "execute_result"
    }
   ],
   "source": [
    "overview.head(10)"
   ]
  },
  {
   "cell_type": "code",
   "execution_count": null,
   "metadata": {},
   "outputs": [],
   "source": []
  },
  {
   "cell_type": "code",
   "execution_count": 210,
   "metadata": {},
   "outputs": [],
   "source": [
    "pct_Asian = [overview.loc['Asian', '% ethnicity searched'], overview.loc['Asian', '% ethnicity cited']]\n",
    "pct_Black = [overview.loc['Black', '% ethnicity searched'], overview.loc['Black', '% ethnicity cited']]\n",
    "pct_Latino = [overview.loc['Latino', '% ethnicity searched'], overview.loc['Latino', '% ethnicity cited']]\n",
    "pct_white = [overview.loc['white', '% ethnicity searched'], overview.loc['white', '% ethnicity cited']]"
   ]
  },
  {
   "cell_type": "code",
   "execution_count": null,
   "metadata": {},
   "outputs": [],
   "source": [
    "# pct_ethnicity_searched = [overview.loc['Asian', '% ethnicity searched'], overview.loc['Black', '% ethnicity searched'], overview.loc['Latino', '% ethnicity searched'], overview.loc['white', '% ethnicity searched']]\n",
    "# pct_ethnicity_cited = [overview.loc['Asian', '% ethnicity cited'], overview.loc['Black', '% ethnicity cited'], overview.loc['Latino', '% ethnicity cited'], overview.loc['white', '% ethnicity cited']]"
   ]
  },
  {
   "cell_type": "code",
   "execution_count": 12,
   "metadata": {},
   "outputs": [],
   "source": []
  },
  {
   "cell_type": "code",
   "execution_count": 212,
   "metadata": {},
   "outputs": [
    {
     "data": {
      "image/png": "[encoded data removed]",
      "text/plain": [
       "<Figure size 720x360 with 1 Axes>"
      ]
     },
     "metadata": {
      "needs_background": "light"
     },
     "output_type": "display_data"
    }
   ],
   "source": [
    "labels = ['Searched', 'Cited']\n",
    "\n",
    "x = np.arange(len(labels))  # the label locations\n",
    "width = 0.2  # the width of the bars\n",
    "spacing = 0.52\n",
    "\n",
    "fig, ax = plt.subplots(figsize=(10,5))\n",
    "rects1 = ax.bar(x, pct_Asian, width, label='Asian')\n",
    "rects2 = ax.bar(x + spacing/3, pct_Black, width, label='Black')\n",
    "rects3 = ax.bar(x + (2*spacing)/3, pct_Latino, width, label='Latino')\n",
    "rects4 = ax.bar(x + spacing, pct_white, width, label='white')\n",
    "\n",
    "# Add some text for labels, title and custom x-axis tick labels, etc.\n",
    "ax.set_ylabel('Percentage')\n",
    "ax.set_title('Percentage of those stopped who were searched and cited, by race')\n",
    "ax.set_xticks(x)\n",
    "ax.set_xticklabels(labels)\n",
    "ax.legend()\n",
    "\n",
    "\n",
    "def autolabel(rects):\n",
    "    \"\"\"Attach a text label above each bar in *rects*, displaying its height.\"\"\"\n",
    "    for rect in rects:\n",
    "        height = rect.get_height()\n",
    "        ax.annotate('{}'.format(height),\n",
    "                    xy=(rect.get_x() + rect.get_width() / 2, height),\n",
    "                    xytext=(0, 3),  # 3 points vertical offset\n",
    "                    textcoords=\"offset points\",\n",
    "                    ha='center', va='bottom')\n",
    "\n",
    "\n",
    "autolabel(rects1)\n",
    "autolabel(rects2)\n",
    "autolabel(rects3)\n",
    "autolabel(rects4)\n",
    "\n",
    "#fig.tight_layout(w_pad=2)\n",
    "fig.tight_layout()\n",
    "plt.show()"
   ]
  },
  {
   "cell_type": "code",
   "execution_count": null,
   "metadata": {},
   "outputs": [],
   "source": []
  },
  {
   "cell_type": "code",
   "execution_count": null,
   "metadata": {},
   "outputs": [],
   "source": []
  },
  {
   "cell_type": "code",
   "execution_count": 14,
   "metadata": {},
   "outputs": [],
   "source": [
    "overview_3 = df.groupby(['officer_race', 'citizen_race']).aggregate(np.sum)[['frisked', 'searched', 'citation_issued']]"
   ]
  },
  {
   "cell_type": "code",
   "execution_count": 15,
   "metadata": {},
   "outputs": [],
   "source": [
    "overview_3['stops'] = df.groupby(['officer_race', 'citizen_race'])['year'].count()"
   ]
  },
  {
   "cell_type": "code",
   "execution_count": 16,
   "metadata": {},
   "outputs": [],
   "source": [
    "overview_3['% frisked'] = overview_3['frisked'] / overview_3['stops']\n",
    "overview_3['% searched'] = overview_3['searched'] / overview_3['stops']\n",
    "overview_3['% cited'] = overview_3['citation_issued'] / overview_3['stops']"
   ]
  },
  {
   "cell_type": "code",
   "execution_count": 17,
   "metadata": {
    "scrolled": true
   },
   "outputs": [
    {
     "data": {
      "text/html": [
       "<div>\n",
       "<style scoped>\n",
       "    .dataframe tbody tr th:only-of-type {\n",
       "        vertical-align: middle;\n",
       "    }\n",
       "\n",
       "    .dataframe tbody tr th {\n",
       "        vertical-align: top;\n",
       "    }\n",
       "\n",
       "    .dataframe thead th {\n",
       "        text-align: right;\n",
       "    }\n",
       "</style>\n",
       "<table border=\"1\" class=\"dataframe\">\n",
       "  <thead>\n",
       "    <tr style=\"text-align: right;\">\n",
       "      <th></th>\n",
       "      <th></th>\n",
       "      <th>frisked</th>\n",
       "      <th>searched</th>\n",
       "      <th>citation_issued</th>\n",
       "      <th>stops</th>\n",
       "      <th>% frisked</th>\n",
       "      <th>% searched</th>\n",
       "      <th>% cited</th>\n",
       "    </tr>\n",
       "    <tr>\n",
       "      <th>officer_race</th>\n",
       "      <th>citizen_race</th>\n",
       "      <th></th>\n",
       "      <th></th>\n",
       "      <th></th>\n",
       "      <th></th>\n",
       "      <th></th>\n",
       "      <th></th>\n",
       "      <th></th>\n",
       "    </tr>\n",
       "  </thead>\n",
       "  <tbody>\n",
       "    <tr>\n",
       "      <th rowspan=\"5\" valign=\"top\">Asian</th>\n",
       "      <th>Asian</th>\n",
       "      <td>0</td>\n",
       "      <td>0</td>\n",
       "      <td>0</td>\n",
       "      <td>7</td>\n",
       "      <td>0.000000</td>\n",
       "      <td>0.000000</td>\n",
       "      <td>0.000000</td>\n",
       "    </tr>\n",
       "    <tr>\n",
       "      <th>Black</th>\n",
       "      <td>0</td>\n",
       "      <td>77</td>\n",
       "      <td>255</td>\n",
       "      <td>565</td>\n",
       "      <td>0.000000</td>\n",
       "      <td>0.136283</td>\n",
       "      <td>0.451327</td>\n",
       "    </tr>\n",
       "    <tr>\n",
       "      <th>Latino</th>\n",
       "      <td>0</td>\n",
       "      <td>8</td>\n",
       "      <td>37</td>\n",
       "      <td>74</td>\n",
       "      <td>0.000000</td>\n",
       "      <td>0.108108</td>\n",
       "      <td>0.500000</td>\n",
       "    </tr>\n",
       "    <tr>\n",
       "      <th>Middle Eastern</th>\n",
       "      <td>0</td>\n",
       "      <td>0</td>\n",
       "      <td>0</td>\n",
       "      <td>2</td>\n",
       "      <td>0.000000</td>\n",
       "      <td>0.000000</td>\n",
       "      <td>0.000000</td>\n",
       "    </tr>\n",
       "    <tr>\n",
       "      <th>white</th>\n",
       "      <td>0</td>\n",
       "      <td>74</td>\n",
       "      <td>330</td>\n",
       "      <td>764</td>\n",
       "      <td>0.000000</td>\n",
       "      <td>0.096859</td>\n",
       "      <td>0.431937</td>\n",
       "    </tr>\n",
       "    <tr>\n",
       "      <th rowspan=\"7\" valign=\"top\">Black</th>\n",
       "      <th>Asian</th>\n",
       "      <td>0</td>\n",
       "      <td>1</td>\n",
       "      <td>3</td>\n",
       "      <td>46</td>\n",
       "      <td>0.000000</td>\n",
       "      <td>0.021739</td>\n",
       "      <td>0.065217</td>\n",
       "    </tr>\n",
       "    <tr>\n",
       "      <th>Black</th>\n",
       "      <td>2</td>\n",
       "      <td>383</td>\n",
       "      <td>5124</td>\n",
       "      <td>6733</td>\n",
       "      <td>0.000297</td>\n",
       "      <td>0.056884</td>\n",
       "      <td>0.761028</td>\n",
       "    </tr>\n",
       "    <tr>\n",
       "      <th>Latino</th>\n",
       "      <td>0</td>\n",
       "      <td>13</td>\n",
       "      <td>686</td>\n",
       "      <td>800</td>\n",
       "      <td>0.000000</td>\n",
       "      <td>0.016250</td>\n",
       "      <td>0.857500</td>\n",
       "    </tr>\n",
       "    <tr>\n",
       "      <th>Middle Eastern</th>\n",
       "      <td>0</td>\n",
       "      <td>4</td>\n",
       "      <td>9</td>\n",
       "      <td>84</td>\n",
       "      <td>0.000000</td>\n",
       "      <td>0.047619</td>\n",
       "      <td>0.107143</td>\n",
       "    </tr>\n",
       "    <tr>\n",
       "      <th>Native American</th>\n",
       "      <td>0</td>\n",
       "      <td>0</td>\n",
       "      <td>13</td>\n",
       "      <td>16</td>\n",
       "      <td>0.000000</td>\n",
       "      <td>0.000000</td>\n",
       "      <td>0.812500</td>\n",
       "    </tr>\n",
       "    <tr>\n",
       "      <th>Unknown</th>\n",
       "      <td>0</td>\n",
       "      <td>0</td>\n",
       "      <td>1</td>\n",
       "      <td>1</td>\n",
       "      <td>0.000000</td>\n",
       "      <td>0.000000</td>\n",
       "      <td>1.000000</td>\n",
       "    </tr>\n",
       "    <tr>\n",
       "      <th>white</th>\n",
       "      <td>0</td>\n",
       "      <td>399</td>\n",
       "      <td>11919</td>\n",
       "      <td>13663</td>\n",
       "      <td>0.000000</td>\n",
       "      <td>0.029203</td>\n",
       "      <td>0.872356</td>\n",
       "    </tr>\n",
       "    <tr>\n",
       "      <th rowspan=\"5\" valign=\"top\">Latino</th>\n",
       "      <th>Asian</th>\n",
       "      <td>0</td>\n",
       "      <td>0</td>\n",
       "      <td>0</td>\n",
       "      <td>11</td>\n",
       "      <td>0.000000</td>\n",
       "      <td>0.000000</td>\n",
       "      <td>0.000000</td>\n",
       "    </tr>\n",
       "    <tr>\n",
       "      <th>Black</th>\n",
       "      <td>0</td>\n",
       "      <td>48</td>\n",
       "      <td>79</td>\n",
       "      <td>279</td>\n",
       "      <td>0.000000</td>\n",
       "      <td>0.172043</td>\n",
       "      <td>0.283154</td>\n",
       "    </tr>\n",
       "    <tr>\n",
       "      <th>Latino</th>\n",
       "      <td>0</td>\n",
       "      <td>10</td>\n",
       "      <td>20</td>\n",
       "      <td>54</td>\n",
       "      <td>0.000000</td>\n",
       "      <td>0.185185</td>\n",
       "      <td>0.370370</td>\n",
       "    </tr>\n",
       "    <tr>\n",
       "      <th>Middle Eastern</th>\n",
       "      <td>0</td>\n",
       "      <td>1</td>\n",
       "      <td>1</td>\n",
       "      <td>11</td>\n",
       "      <td>0.000000</td>\n",
       "      <td>0.090909</td>\n",
       "      <td>0.090909</td>\n",
       "    </tr>\n",
       "    <tr>\n",
       "      <th>white</th>\n",
       "      <td>0</td>\n",
       "      <td>77</td>\n",
       "      <td>126</td>\n",
       "      <td>368</td>\n",
       "      <td>0.000000</td>\n",
       "      <td>0.209239</td>\n",
       "      <td>0.342391</td>\n",
       "    </tr>\n",
       "    <tr>\n",
       "      <th rowspan=\"4\" valign=\"top\">Other</th>\n",
       "      <th>Black</th>\n",
       "      <td>0</td>\n",
       "      <td>1</td>\n",
       "      <td>6</td>\n",
       "      <td>19</td>\n",
       "      <td>0.000000</td>\n",
       "      <td>0.052632</td>\n",
       "      <td>0.315789</td>\n",
       "    </tr>\n",
       "    <tr>\n",
       "      <th>Latino</th>\n",
       "      <td>0</td>\n",
       "      <td>0</td>\n",
       "      <td>0</td>\n",
       "      <td>2</td>\n",
       "      <td>0.000000</td>\n",
       "      <td>0.000000</td>\n",
       "      <td>0.000000</td>\n",
       "    </tr>\n",
       "    <tr>\n",
       "      <th>Middle Eastern</th>\n",
       "      <td>0</td>\n",
       "      <td>0</td>\n",
       "      <td>0</td>\n",
       "      <td>1</td>\n",
       "      <td>0.000000</td>\n",
       "      <td>0.000000</td>\n",
       "      <td>0.000000</td>\n",
       "    </tr>\n",
       "    <tr>\n",
       "      <th>white</th>\n",
       "      <td>0</td>\n",
       "      <td>1</td>\n",
       "      <td>3</td>\n",
       "      <td>21</td>\n",
       "      <td>0.000000</td>\n",
       "      <td>0.047619</td>\n",
       "      <td>0.142857</td>\n",
       "    </tr>\n",
       "    <tr>\n",
       "      <th rowspan=\"7\" valign=\"top\">white</th>\n",
       "      <th>Asian</th>\n",
       "      <td>0</td>\n",
       "      <td>24</td>\n",
       "      <td>57</td>\n",
       "      <td>344</td>\n",
       "      <td>0.000000</td>\n",
       "      <td>0.069767</td>\n",
       "      <td>0.165698</td>\n",
       "    </tr>\n",
       "    <tr>\n",
       "      <th>Black</th>\n",
       "      <td>7</td>\n",
       "      <td>2605</td>\n",
       "      <td>18015</td>\n",
       "      <td>27285</td>\n",
       "      <td>0.000257</td>\n",
       "      <td>0.095474</td>\n",
       "      <td>0.660253</td>\n",
       "    </tr>\n",
       "    <tr>\n",
       "      <th>Latino</th>\n",
       "      <td>0</td>\n",
       "      <td>218</td>\n",
       "      <td>2793</td>\n",
       "      <td>3904</td>\n",
       "      <td>0.000000</td>\n",
       "      <td>0.055840</td>\n",
       "      <td>0.715420</td>\n",
       "    </tr>\n",
       "    <tr>\n",
       "      <th>Middle Eastern</th>\n",
       "      <td>0</td>\n",
       "      <td>33</td>\n",
       "      <td>47</td>\n",
       "      <td>345</td>\n",
       "      <td>0.000000</td>\n",
       "      <td>0.095652</td>\n",
       "      <td>0.136232</td>\n",
       "    </tr>\n",
       "    <tr>\n",
       "      <th>Native American</th>\n",
       "      <td>0</td>\n",
       "      <td>2</td>\n",
       "      <td>37</td>\n",
       "      <td>49</td>\n",
       "      <td>0.000000</td>\n",
       "      <td>0.040816</td>\n",
       "      <td>0.755102</td>\n",
       "    </tr>\n",
       "    <tr>\n",
       "      <th>Unknown</th>\n",
       "      <td>0</td>\n",
       "      <td>0</td>\n",
       "      <td>1</td>\n",
       "      <td>1</td>\n",
       "      <td>0.000000</td>\n",
       "      <td>0.000000</td>\n",
       "      <td>1.000000</td>\n",
       "    </tr>\n",
       "    <tr>\n",
       "      <th>white</th>\n",
       "      <td>7</td>\n",
       "      <td>2878</td>\n",
       "      <td>41683</td>\n",
       "      <td>54446</td>\n",
       "      <td>0.000129</td>\n",
       "      <td>0.052860</td>\n",
       "      <td>0.765584</td>\n",
       "    </tr>\n",
       "  </tbody>\n",
       "</table>\n",
       "</div>"
      ],
      "text/plain": [
       "                              frisked  searched  citation_issued  stops  \\\n",
       "officer_race citizen_race                                                 \n",
       "Asian        Asian                  0         0                0      7   \n",
       "             Black                  0        77              255    565   \n",
       "             Latino                 0         8               37     74   \n",
       "             Middle Eastern         0         0                0      2   \n",
       "             white                  0        74              330    764   \n",
       "Black        Asian                  0         1                3     46   \n",
       "             Black                  2       383             5124   6733   \n",
       "             Latino                 0        13              686    800   \n",
       "             Middle Eastern         0         4                9     84   \n",
       "             Native American        0         0               13     16   \n",
       "             Unknown                0         0                1      1   \n",
       "             white                  0       399            11919  13663   \n",
       "Latino       Asian                  0         0                0     11   \n",
       "             Black                  0        48               79    279   \n",
       "             Latino                 0        10               20     54   \n",
       "             Middle Eastern         0         1                1     11   \n",
       "             white                  0        77              126    368   \n",
       "Other        Black                  0         1                6     19   \n",
       "             Latino                 0         0                0      2   \n",
       "             Middle Eastern         0         0                0      1   \n",
       "             white                  0         1                3     21   \n",
       "white        Asian                  0        24               57    344   \n",
       "             Black                  7      2605            18015  27285   \n",
       "             Latino                 0       218             2793   3904   \n",
       "             Middle Eastern         0        33               47    345   \n",
       "             Native American        0         2               37     49   \n",
       "             Unknown                0         0                1      1   \n",
       "             white                  7      2878            41683  54446   \n",
       "\n",
       "                              % frisked  % searched   % cited  \n",
       "officer_race citizen_race                                      \n",
       "Asian        Asian             0.000000    0.000000  0.000000  \n",
       "             Black             0.000000    0.136283  0.451327  \n",
       "             Latino            0.000000    0.108108  0.500000  \n",
       "             Middle Eastern    0.000000    0.000000  0.000000  \n",
       "             white             0.000000    0.096859  0.431937  \n",
       "Black        Asian             0.000000    0.021739  0.065217  \n",
       "             Black             0.000297    0.056884  0.761028  \n",
       "             Latino            0.000000    0.016250  0.857500  \n",
       "             Middle Eastern    0.000000    0.047619  0.107143  \n",
       "             Native American   0.000000    0.000000  0.812500  \n",
       "             Unknown           0.000000    0.000000  1.000000  \n",
       "             white             0.000000    0.029203  0.872356  \n",
       "Latino       Asian             0.000000    0.000000  0.000000  \n",
       "             Black             0.000000    0.172043  0.283154  \n",
       "             Latino            0.000000    0.185185  0.370370  \n",
       "             Middle Eastern    0.000000    0.090909  0.090909  \n",
       "             white             0.000000    0.209239  0.342391  \n",
       "Other        Black             0.000000    0.052632  0.315789  \n",
       "             Latino            0.000000    0.000000  0.000000  \n",
       "             Middle Eastern    0.000000    0.000000  0.000000  \n",
       "             white             0.000000    0.047619  0.142857  \n",
       "white        Asian             0.000000    0.069767  0.165698  \n",
       "             Black             0.000257    0.095474  0.660253  \n",
       "             Latino            0.000000    0.055840  0.715420  \n",
       "             Middle Eastern    0.000000    0.095652  0.136232  \n",
       "             Native American   0.000000    0.040816  0.755102  \n",
       "             Unknown           0.000000    0.000000  1.000000  \n",
       "             white             0.000129    0.052860  0.765584  "
      ]
     },
     "execution_count": 17,
     "metadata": {},
     "output_type": "execute_result"
    }
   ],
   "source": [
    "overview_3"
   ]
  },
  {
   "cell_type": "code",
   "execution_count": 18,
   "metadata": {
    "scrolled": false
   },
   "outputs": [],
   "source": [
    "Asian_officer_pct_search = (overview_3.loc['Asian', '% searched'] * 100).round(2)\n",
    "Black_officer_pct_search = (overview_3.loc['Black', '% searched'] * 100).round(2)\n",
    "Latino_officer_pct_search = (overview_3.loc['Latino', '% searched'] * 100).round(2)\n",
    "white_officer_pct_search = (overview_3.loc['white', '% searched'] * 100).round(2)"
   ]
  },
  {
   "cell_type": "code",
   "execution_count": 206,
   "metadata": {},
   "outputs": [
    {
     "data": {
      "image/png": "[encoded data removed]",
      "text/plain": [
       "<Figure size 720x360 with 1 Axes>"
      ]
     },
     "metadata": {
      "needs_background": "light"
     },
     "output_type": "display_data"
    }
   ],
   "source": [
    "labels = ['Asian officers', 'Black officers', 'Latino officers', 'white officers']\n",
    "Asian = [Asian_officer_pct_search[0], Black_officer_pct_search[0], Latino_officer_pct_search[0], white_officer_pct_search[0]]\n",
    "Black = [Asian_officer_pct_search[1], Black_officer_pct_search[1], Latino_officer_pct_search[1], white_officer_pct_search[1]]\n",
    "Latino = [Asian_officer_pct_search[2], Black_officer_pct_search[2], Latino_officer_pct_search[2], white_officer_pct_search[2]]\n",
    "white = [Asian_officer_pct_search[4], Black_officer_pct_search[6], Latino_officer_pct_search[4], white_officer_pct_search[6]]\n",
    "\n",
    "x = np.arange(len(labels))  # the label locations\n",
    "width = 0.2  # the width of the bars\n",
    "spacing = 0.52\n",
    "\n",
    "fig, ax = plt.subplots(figsize=(10,5))\n",
    "rects1 = ax.bar(x, Asian, width, label='Asian citizen')\n",
    "rects2 = ax.bar(x + spacing/3, Black, width, label='Black citizen')\n",
    "rects3 = ax.bar(x + (2*spacing)/3, Latino, width, label='Latino citizen')\n",
    "rects4 = ax.bar(x + spacing, white, width, label='white citizen')\n",
    "\n",
    "\n",
    "# Add some text for labels, title and custom x-axis tick labels, etc.\n",
    "ax.set_ylabel('Percentage')\n",
    "ax.set_title('Percentage of stopped citizens who were searched, by race and race of officer')\n",
    "ax.set_xticks(x)\n",
    "ax.set_xticklabels(labels)\n",
    "ax.legend()\n",
    "\n",
    "\n",
    "def autolabel(rects):\n",
    "    \"\"\"Attach a text label above each bar in *rects*, displaying its height.\"\"\"\n",
    "    for rect in rects:\n",
    "        height = rect.get_height()\n",
    "        ax.annotate('{}'.format(height),\n",
    "                    xy=(rect.get_x() + rect.get_width() / 2, height),\n",
    "                    xytext=(0, 3),  # 3 points vertical offset\n",
    "                    textcoords=\"offset points\",\n",
    "                    ha='center', va='bottom')\n",
    "\n",
    "\n",
    "autolabel(rects1)\n",
    "autolabel(rects2)\n",
    "autolabel(rects3)\n",
    "autolabel(rects4)\n",
    "\n",
    "#fig.tight_layout(w_pad=2)\n",
    "fig.tight_layout()\n",
    "plt.show()"
   ]
  },
  {
   "cell_type": "code",
   "execution_count": 20,
   "metadata": {},
   "outputs": [],
   "source": [
    "Asian_officer_pct_cited = (overview_3.loc['Asian', '% cited'] * 100).round(2)\n",
    "Black_officer_pct_cited = (overview_3.loc['Black', '% cited'] * 100).round(2)\n",
    "Latino_officer_pct_cited = (overview_3.loc['Latino', '% cited'] * 100).round(2)\n",
    "white_officer_pct_cited = (overview_3.loc['white', '% cited'] * 100).round(2)"
   ]
  },
  {
   "cell_type": "code",
   "execution_count": 21,
   "metadata": {},
   "outputs": [
    {
     "data": {
      "text/plain": [
       "[0.0, 6.52, 0.0, 16.57]"
      ]
     },
     "execution_count": 21,
     "metadata": {},
     "output_type": "execute_result"
    }
   ],
   "source": [
    "[Asian_officer_pct_cited[0], Black_officer_pct_cited[0], Latino_officer_pct_cited[0], white_officer_pct_cited[0]]"
   ]
  },
  {
   "cell_type": "code",
   "execution_count": 208,
   "metadata": {},
   "outputs": [
    {
     "data": {
      "image/png": "[encoded data removed]",
      "text/plain": [
       "<Figure size 720x360 with 1 Axes>"
      ]
     },
     "metadata": {
      "needs_background": "light"
     },
     "output_type": "display_data"
    }
   ],
   "source": [
    "labels = ['Asian officers', 'Black officers', 'Latino officers', 'white officers']\n",
    "Asian = [Asian_officer_pct_cited[0], Black_officer_pct_cited[0], Latino_officer_pct_cited[0], white_officer_pct_cited[0]]\n",
    "Black = [Asian_officer_pct_cited[1], Black_officer_pct_cited[1], Latino_officer_pct_cited[1], white_officer_pct_cited[1]]\n",
    "Latino = [Asian_officer_pct_cited[2], Black_officer_pct_cited[2], Latino_officer_pct_cited[2], white_officer_pct_cited[2]]\n",
    "white = [Asian_officer_pct_cited[4], Black_officer_pct_cited[6], Latino_officer_pct_cited[4], white_officer_pct_cited[6]]\n",
    "\n",
    "x = np.arange(len(labels))  # the label locations\n",
    "width = 0.2  # the width of the bars\n",
    "spacing = 0.52\n",
    "\n",
    "fig, ax = plt.subplots(figsize=(10,5))\n",
    "rects1 = ax.bar(x, Asian, width, label='Asian citizen')\n",
    "rects2 = ax.bar(x + spacing/3, Black, width, label='Black citizen')\n",
    "rects3 = ax.bar(x + (2*spacing)/3, Latino, width, label='Latino citizen')\n",
    "rects4 = ax.bar(x + spacing, white, width, label='white citizen')\n",
    "\n",
    "\n",
    "# Add some text for labels, title and custom x-axis tick labels, etc.\n",
    "ax.set_ylabel('Percentage')\n",
    "ax.set_title('Percentage of those stopped who were given citations, by race and race of officer')\n",
    "ax.set_xticks(x)\n",
    "ax.set_xticklabels(labels)\n",
    "ax.legend()\n",
    "\n",
    "\n",
    "def autolabel(rects):\n",
    "    \"\"\"Attach a text label above each bar in *rects*, displaying its height.\"\"\"\n",
    "    for rect in rects:\n",
    "        height = rect.get_height()\n",
    "        ax.annotate('{}'.format(height),\n",
    "                    xy=(rect.get_x() + rect.get_width() / 2, height),\n",
    "                    xytext=(0, 3),  # 3 points vertical offset\n",
    "                    textcoords=\"offset points\",\n",
    "                    ha='center', va='bottom')\n",
    "\n",
    "\n",
    "autolabel(rects1)\n",
    "autolabel(rects2)\n",
    "autolabel(rects3)\n",
    "autolabel(rects4)\n",
    "\n",
    "#fig.tight_layout(w_pad=2)\n",
    "fig.tight_layout()\n",
    "plt.show()"
   ]
  },
  {
   "cell_type": "code",
   "execution_count": null,
   "metadata": {
    "scrolled": true
   },
   "outputs": [],
   "source": []
  },
  {
   "cell_type": "code",
   "execution_count": null,
   "metadata": {},
   "outputs": [],
   "source": []
  },
  {
   "cell_type": "markdown",
   "metadata": {},
   "source": [
    "### Total search & citation data for individual races of citizen"
   ]
  },
  {
   "cell_type": "code",
   "execution_count": 146,
   "metadata": {},
   "outputs": [
    {
     "data": {
      "text/plain": [
       "34943"
      ]
     },
     "execution_count": 146,
     "metadata": {},
     "output_type": "execute_result"
    }
   ],
   "source": [
    "# all searches of Blacks, all officers\n",
    "Black_searches = df.loc[(df.citizen_race == 'Black') & (df.searched.isin([0,1]))]\n",
    "Black_searches = Black_searches['searched']\n",
    "len(Black_searches)"
   ]
  },
  {
   "cell_type": "code",
   "execution_count": 175,
   "metadata": {},
   "outputs": [
    {
     "data": {
      "text/plain": [
       "34943"
      ]
     },
     "execution_count": 175,
     "metadata": {},
     "output_type": "execute_result"
    }
   ],
   "source": [
    "# of all citations of Blacks, all officers\n",
    "Black_citations = df.loc[(df.citizen_race == 'Black') & (df.citation_issued.isin([0,1]))]\n",
    "Black_citations = Black_citations['citation_issued']\n",
    "len(Black_citations)"
   ]
  },
  {
   "cell_type": "code",
   "execution_count": 147,
   "metadata": {},
   "outputs": [
    {
     "data": {
      "text/plain": [
       "69340"
      ]
     },
     "execution_count": 147,
     "metadata": {},
     "output_type": "execute_result"
    }
   ],
   "source": [
    "#all searches of whites, all officers\n",
    "white_searches = df.loc[(df.citizen_race == 'white') & (df.searched.isin([0,1]))]\n",
    "white_searches = white_searches['searched']\n",
    "len(white_searches)"
   ]
  },
  {
   "cell_type": "code",
   "execution_count": 176,
   "metadata": {},
   "outputs": [
    {
     "data": {
      "text/plain": [
       "69340"
      ]
     },
     "execution_count": 176,
     "metadata": {},
     "output_type": "execute_result"
    }
   ],
   "source": [
    "# of all citations of whites, all officers\n",
    "white_citations = df.loc[(df.citizen_race == 'white') & (df.citation_issued.isin([0,1]))]\n",
    "white_citations = white_citations['citation_issued']\n",
    "len(white_citations)"
   ]
  },
  {
   "cell_type": "code",
   "execution_count": 148,
   "metadata": {},
   "outputs": [
    {
     "data": {
      "text/plain": [
       "4843"
      ]
     },
     "execution_count": 148,
     "metadata": {},
     "output_type": "execute_result"
    }
   ],
   "source": [
    "# all searches of Latinos, all officers\n",
    "Latino_searches = df.loc[(df.citizen_race == 'Latino') & (df.searched.isin([0,1]))]\n",
    "Latino_searches = Latino_searches['searched']\n",
    "len(Latino_searches)"
   ]
  },
  {
   "cell_type": "code",
   "execution_count": 177,
   "metadata": {},
   "outputs": [
    {
     "data": {
      "text/plain": [
       "4843"
      ]
     },
     "execution_count": 177,
     "metadata": {},
     "output_type": "execute_result"
    }
   ],
   "source": [
    "# of all citations of Latinos, all officers\n",
    "Latino_citations = df.loc[(df.citizen_race == 'Latino') & (df.citation_issued.isin([0,1]))]\n",
    "Latino_citations = Latino_citations['citation_issued']\n",
    "len(Latino_citations)"
   ]
  },
  {
   "cell_type": "code",
   "execution_count": null,
   "metadata": {},
   "outputs": [],
   "source": []
  },
  {
   "cell_type": "markdown",
   "metadata": {},
   "source": [
    "### Total search data by race of officer"
   ]
  },
  {
   "cell_type": "code",
   "execution_count": 156,
   "metadata": {},
   "outputs": [],
   "source": [
    "# all searches by white officers, all races\n",
    "white_officer_searches = df.loc[(df.officer_race == 'white') & (df.searched.isin([0,1]))]\n",
    "white_officer_searches = white_officer_searches['searched']"
   ]
  },
  {
   "cell_type": "code",
   "execution_count": 185,
   "metadata": {},
   "outputs": [],
   "source": [
    "# all citations by white officers, all races\n",
    "white_officer_citations = df.loc[(df.officer_race == 'white') & (df.citation_issued.isin([0,1]))]\n",
    "white_officer_citations = white_officer_citations['citation_issued']"
   ]
  },
  {
   "cell_type": "code",
   "execution_count": 168,
   "metadata": {},
   "outputs": [],
   "source": [
    "# all searches by Black officers, all races\n",
    "Black_officer_searches = df.loc[(df.officer_race == 'Black') & (df.searched.isin([0,1]))]\n",
    "Black_officer_searches = Black_officer_searches['searched']"
   ]
  },
  {
   "cell_type": "code",
   "execution_count": 186,
   "metadata": {},
   "outputs": [],
   "source": [
    "# all citations by Black officers, all races\n",
    "Black_officer_citations = df.loc[(df.officer_race == 'Black') & (df.citation_issued.isin([0,1]))]\n",
    "Black_officer_citations = Black_officer_citations['citation_issued']"
   ]
  },
  {
   "cell_type": "code",
   "execution_count": 170,
   "metadata": {},
   "outputs": [],
   "source": [
    "# all searches by Latino officers, all races\n",
    "Latino_officer_searches = df.loc[(df.officer_race == 'Latino') & (df.searched.isin([0,1]))]\n",
    "Latino_officer_searches = Latino_officer_searches['searched']"
   ]
  },
  {
   "cell_type": "code",
   "execution_count": 187,
   "metadata": {},
   "outputs": [],
   "source": [
    "# all citations by Latino officers, all races\n",
    "Latino_officer_citations = df.loc[(df.officer_race == 'Latino') & (df.citation_issued.isin([0,1]))]\n",
    "Latino_officer_citations = Latino_officer_citations['citation_issued']"
   ]
  },
  {
   "cell_type": "code",
   "execution_count": null,
   "metadata": {},
   "outputs": [],
   "source": []
  },
  {
   "cell_type": "markdown",
   "metadata": {},
   "source": [
    "### Searches by race of officer, race of citizen"
   ]
  },
  {
   "cell_type": "code",
   "execution_count": 198,
   "metadata": {},
   "outputs": [
    {
     "data": {
      "text/plain": [
       "27285"
      ]
     },
     "execution_count": 198,
     "metadata": {},
     "output_type": "execute_result"
    }
   ],
   "source": [
    "# searches of Black citizens by white officers\n",
    "white_off_Black_cit = df.loc[(df.officer_race == 'white') & (df.citizen_race == 'Black') & (df.searched.isin([0,1]))]\n",
    "white_off_Black_cit = white_off_Black_cit['searched']\n",
    "len(white_off_Black_cit)"
   ]
  },
  {
   "cell_type": "code",
   "execution_count": 199,
   "metadata": {},
   "outputs": [
    {
     "data": {
      "text/plain": [
       "6733"
      ]
     },
     "execution_count": 199,
     "metadata": {},
     "output_type": "execute_result"
    }
   ],
   "source": [
    "# searches of Black citizens by Black officers\n",
    "Black_off_Black_cit = df.loc[(df.officer_race == 'Black') & (df.citizen_race == 'Black') & (df.searched.isin([0,1]))]\n",
    "Black_off_Black_cit = Black_off_Black_cit['searched']\n",
    "len(Black_off_Black_cit)"
   ]
  },
  {
   "cell_type": "code",
   "execution_count": 200,
   "metadata": {},
   "outputs": [
    {
     "data": {
      "text/plain": [
       "279"
      ]
     },
     "execution_count": 200,
     "metadata": {},
     "output_type": "execute_result"
    }
   ],
   "source": [
    "# searches of Black citizens by Latino officers\n",
    "Latino_off_Black_cit = df.loc[(df.officer_race == 'Latino') & (df.citizen_race == 'Black') & (df.searched.isin([0,1]))]\n",
    "Latino_off_Black_cit = Latino_off_Black_cit['searched']\n",
    "len(Latino_off_Black_cit)"
   ]
  },
  {
   "cell_type": "code",
   "execution_count": 201,
   "metadata": {},
   "outputs": [
    {
     "data": {
      "text/plain": [
       "13663"
      ]
     },
     "execution_count": 201,
     "metadata": {},
     "output_type": "execute_result"
    }
   ],
   "source": [
    "# searches of white citizens by Black officers\n",
    "Black_off_white_cit = df.loc[(df.officer_race == 'Black') & (df.citizen_race == 'white') & (df.searched.isin([0,1]))]\n",
    "Black_off_white_cit = Black_off_white_cit['searched']\n",
    "len(Black_off_white_cit)"
   ]
  },
  {
   "cell_type": "code",
   "execution_count": 202,
   "metadata": {},
   "outputs": [
    {
     "data": {
      "text/plain": [
       "54447"
      ]
     },
     "execution_count": 202,
     "metadata": {},
     "output_type": "execute_result"
    }
   ],
   "source": [
    "# searches of white citizens by white officers\n",
    "white_off_white_cit = df.loc[(df.officer_race == 'white') & (df.citizen_race == 'white') & (df.searched.isin([0,1]))]\n",
    "white_off_white_cit = white_off_white_cit['searched']\n",
    "len(white_off_white_cit)"
   ]
  },
  {
   "cell_type": "code",
   "execution_count": 203,
   "metadata": {},
   "outputs": [
    {
     "data": {
      "text/plain": [
       "368"
      ]
     },
     "execution_count": 203,
     "metadata": {},
     "output_type": "execute_result"
    }
   ],
   "source": [
    "# searches of white citizens by Latino officers\n",
    "Latino_off_white_cit = df.loc[(df.officer_race == 'Latino') & (df.citizen_race == 'white') & (df.searched.isin([0,1]))]\n",
    "Latino_off_white_cit = Latino_off_white_cit['searched']\n",
    "len(Latino_off_white_cit)"
   ]
  },
  {
   "cell_type": "code",
   "execution_count": null,
   "metadata": {},
   "outputs": [],
   "source": []
  },
  {
   "cell_type": "code",
   "execution_count": null,
   "metadata": {},
   "outputs": [],
   "source": []
  },
  {
   "cell_type": "code",
   "execution_count": null,
   "metadata": {},
   "outputs": [],
   "source": []
  },
  {
   "cell_type": "markdown",
   "metadata": {},
   "source": [
    "## Bayesian Testing"
   ]
  },
  {
   "cell_type": "markdown",
   "metadata": {},
   "source": [
    "#### the beta distribution models the probability of being searched:\n",
    "\n",
    "* a = 1 + number of successes (searches)\n",
    "* b = 1 + number of misses (non searches)\n",
    "* a + b = 2 + number of stops\n",
    "* mean of beta = a / (a + b) -->> a + b = stops (roughly)\n",
    "* p of search = a / (a + b) \n",
    "\n",
    "#### from probability to relative likelihood\n",
    "\n",
    "* y-axis of pdf is probability density\n",
    "* x-axis of pdf is probabilities (search rates)\n",
    "* -->> relative probability of being searched\n",
    " "
   ]
  },
  {
   "cell_type": "markdown",
   "metadata": {},
   "source": [
    "### Plotting A/B "
   ]
  },
  {
   "cell_type": "code",
   "execution_count": 178,
   "metadata": {},
   "outputs": [],
   "source": [
    "def plot_beta(alpha, beta, ax, search_samples, title=None, label=None):\n",
    "\n",
    "    # Build a beta distribtuion scipy object.\n",
    "    dist = stats.beta(alpha, beta)\n",
    "\n",
    "    # The support (always this for the beta dist).\n",
    "    x = np.linspace(0.0, 1.0, len(search_samples)) # ? \n",
    "\n",
    "    # The probability density at each sample support value.\n",
    "    y = dist.pdf(x)\n",
    "\n",
    "    # Plot it all.\n",
    "    lines = ax.plot(x, y, label=label)\n",
    "    ax.fill_between(x, y, alpha=0.2, color=lines[0].get_c())\n",
    "    if title: \n",
    "        ax.set_title(title)\n",
    "    ax.get_yaxis().set_ticks([])\n",
    "    #ax.get_yaxis().set_ticks([np.max(y)])\n",
    "#    ax.get_xaxis().set_ticks(xticks)\n",
    "    ax.set_ylim(0.0, np.max(y)*1.2)\n",
    "\n",
    "def get_beta_dist_params(search_samples):\n",
    "    search_samples = np.array(search_samples)\n",
    "    num_searches = search_samples.sum()\n",
    "    total_stops = len(search_samples)\n",
    "    alpha = num_searches + 1\n",
    "    beta = (total_stops - num_searches) + 1\n",
    "    mean = 1 * num_searches / total_stops\n",
    "    return alpha, beta, mean, num_searches, total_stops\n",
    "\n",
    "\n",
    "def plot_beta_searches(search_samples, ax, label=None):\n",
    "    alpha, beta, mean, num_searches, total_stops = get_beta_dist_params(search_samples)\n",
    "    title = None if label else r\"Searched {}/{}\".format(num_searches, total_stops)\n",
    "    plot_beta(alpha, beta, ax, search_samples, title, label)\n",
    "    ax.set_xlabel(\"Search Rate\")\n",
    "    ax.set_ylabel(\"Probability Density\")"
   ]
  },
  {
   "cell_type": "code",
   "execution_count": null,
   "metadata": {},
   "outputs": [],
   "source": []
  },
  {
   "cell_type": "markdown",
   "metadata": {},
   "source": [
    "### Comparing searches of Black and white citizens, officers of all races"
   ]
  },
  {
   "cell_type": "code",
   "execution_count": 179,
   "metadata": {},
   "outputs": [
    {
     "data": {
      "text/plain": [
       "(0.14, 0.125)"
      ]
     },
     "execution_count": 179,
     "metadata": {},
     "output_type": "execute_result"
    }
   ],
   "source": []
  },
  {
   "cell_type": "code",
   "execution_count": 220,
   "metadata": {},
   "outputs": [
    {
     "data": {
      "image/png": "[encoded data removed]",
      "text/plain": [
       "<Figure size 720x360 with 1 Axes>"
      ]
     },
     "metadata": {
      "needs_background": "light"
     },
     "output_type": "display_data"
    }
   ],
   "source": [
    "# searches of white and black citizens, all officers\n",
    "\n",
    "fig, ax = plt.subplots(1, 1, figsize=(10, 5))\n",
    "\n",
    "\n",
    "plot_beta_searches(Black_searches, ax, label=\"Black\")\n",
    "plot_beta_searches(white_searches, ax, label=\"white\")\n",
    "ax.legend()\n",
    "ax.set_xlim(0,0.1);"
   ]
  },
  {
   "cell_type": "code",
   "execution_count": null,
   "metadata": {},
   "outputs": [],
   "source": []
  },
  {
   "cell_type": "markdown",
   "metadata": {},
   "source": [
    "#### Calculating probability that Blacks more likely to get searched"
   ]
  },
  {
   "cell_type": "code",
   "execution_count": null,
   "metadata": {},
   "outputs": [],
   "source": [
    "n = 200\n",
    "Black_samples = Black_searches[:n]\n",
    "white_samples = white_searches[:n]\n",
    "\n",
    "np.mean(Black_samples), np.mean(white_samples)"
   ]
  },
  {
   "cell_type": "code",
   "execution_count": 181,
   "metadata": {
    "scrolled": true
   },
   "outputs": [
    {
     "name": "stdout",
     "output_type": "stream",
     "text": [
      "29 173\n",
      "26 176\n",
      "0.67241\n"
     ]
    }
   ],
   "source": [
    "num_simulations = 100_000\n",
    "\n",
    "alpha, beta = get_beta_dist_params(Black_samples)[:2]\n",
    "print(alpha, beta)\n",
    "dist_A = stats.beta(alpha, beta)\n",
    "\n",
    "alpha, beta = get_beta_dist_params(white_samples)[:2]\n",
    "print(alpha, beta)\n",
    "dist_B = stats.beta(alpha, beta)\n",
    "\n",
    "simulated_A = dist_A.rvs(num_simulations)\n",
    "simulated_B = dist_B.rvs(num_simulations)\n",
    "\n",
    "print((simulated_A > simulated_B).mean())\n",
    "#print((simulated_B > simulated_A).mean())"
   ]
  },
  {
   "cell_type": "markdown",
   "metadata": {},
   "source": [
    "#### 100 % of the time Blacks are more likely to be searched than whites (?)"
   ]
  },
  {
   "cell_type": "markdown",
   "metadata": {},
   "source": [
    "#### 95% credible interval of Black motorists' rate of search"
   ]
  },
  {
   "cell_type": "code",
   "execution_count": 182,
   "metadata": {},
   "outputs": [
    {
     "data": {
      "image/png": "[encoded data removed]",
      "text/plain": [
       "<Figure size 432x288 with 1 Axes>"
      ]
     },
     "metadata": {
      "needs_background": "light"
     },
     "output_type": "display_data"
    }
   ],
   "source": [
    "x = np.linspace(*dist_A.ppf([.001, .999]),201)\n",
    "plt.plot(x, dist_A.pdf(x))\n",
    "plt.vlines(dist_A.ppf([.025, .975]), ymin = 0, ymax = dist_A.pdf(x).max(), linestyles='dotted')\n",
    "plt.fill_between(x, 0, dist_A.pdf(x), where = (x < dist_A.ppf(.025)) | (x > dist_A.ppf(.975) ));"
   ]
  },
  {
   "cell_type": "code",
   "execution_count": null,
   "metadata": {},
   "outputs": [],
   "source": []
  },
  {
   "cell_type": "code",
   "execution_count": null,
   "metadata": {},
   "outputs": [],
   "source": []
  },
  {
   "cell_type": "markdown",
   "metadata": {},
   "source": [
    "### Comparing rate of searches by Latino and white officers"
   ]
  },
  {
   "cell_type": "markdown",
   "metadata": {},
   "source": [
    "* Null hypothesis: Race does not play a role in the rate of searches by Latino and white officers\n",
    "* Alternative hypothesis: Latino officers are more likely to conduct searches than white officers\n",
    "* Alpha: .05"
   ]
  },
  {
   "cell_type": "code",
   "execution_count": 219,
   "metadata": {},
   "outputs": [
    {
     "data": {
      "image/png": "[encoded data removed]",
      "text/plain": [
       "<Figure size 720x360 with 1 Axes>"
      ]
     },
     "metadata": {
      "needs_background": "light"
     },
     "output_type": "display_data"
    }
   ],
   "source": [
    "# searches by Latino and white officers, all races of citizen\n",
    "\n",
    "fig, ax = plt.subplots(1, 1, figsize=(10, 5))\n",
    "\n",
    "\n",
    "plot_beta_searches(Latino_officer_searches, ax, label=\"Latino\")\n",
    "plot_beta_searches(white_officer_searches, ax, label=\"white\")\n",
    "ax.legend()\n",
    "ax.set_xlim(0,0.3);"
   ]
  },
  {
   "cell_type": "code",
   "execution_count": 226,
   "metadata": {},
   "outputs": [],
   "source": [
    "n = 200\n",
    "Latino_offc_search_samples = Latino_officer_searches[:n]\n",
    "white_offc_search_samples = white_officer_searches[:n]"
   ]
  },
  {
   "cell_type": "code",
   "execution_count": 230,
   "metadata": {},
   "outputs": [
    {
     "name": "stdout",
     "output_type": "stream",
     "text": [
      "25 177\n",
      "20 182\n",
      "0.7885\n",
      "0.2115\n"
     ]
    }
   ],
   "source": [
    "num_simulations = 100_000\n",
    "\n",
    "alpha, beta = get_beta_dist_params(Latino_offc_search_samples)[:2]\n",
    "print(alpha, beta)\n",
    "dist_A = stats.beta(alpha, beta)\n",
    "\n",
    "alpha, beta = get_beta_dist_params(white_offc_search_samples)[:2]\n",
    "print(alpha, beta)\n",
    "dist_B = stats.beta(alpha, beta)\n",
    "\n",
    "simulated_A = dist_A.rvs(num_simulations)\n",
    "simulated_B = dist_B.rvs(num_simulations)\n",
    "\n",
    "print((simulated_A > simulated_B).mean())\n",
    "print((simulated_B > simulated_A).mean())"
   ]
  },
  {
   "cell_type": "markdown",
   "metadata": {},
   "source": [
    "#### 95% credible interval for Latino officers' rate of search"
   ]
  },
  {
   "cell_type": "code",
   "execution_count": 228,
   "metadata": {},
   "outputs": [
    {
     "data": {
      "image/png": "[encoded data removed]",
      "text/plain": [
       "<Figure size 432x288 with 1 Axes>"
      ]
     },
     "metadata": {
      "needs_background": "light"
     },
     "output_type": "display_data"
    }
   ],
   "source": [
    "\n",
    "x = np.linspace(*dist_A.ppf([.001, .999]),201)\n",
    "plt.plot(x, dist_A.pdf(x))\n",
    "plt.vlines(dist_A.ppf([.025, .975]), ymin = 0, ymax = dist_A.pdf(x).max(), linestyles='dotted')\n",
    "plt.fill_between(x, 0, dist_A.pdf(x), where = (x < dist_A.ppf(.025)) | (x > dist_A.ppf(.975) ));"
   ]
  },
  {
   "cell_type": "markdown",
   "metadata": {},
   "source": [
    "#### 95% credible interval for white officers' rate of search"
   ]
  },
  {
   "cell_type": "code",
   "execution_count": 229,
   "metadata": {},
   "outputs": [
    {
     "data": {
      "image/png": "[encoded data removed]",
      "text/plain": [
       "<Figure size 432x288 with 1 Axes>"
      ]
     },
     "metadata": {
      "needs_background": "light"
     },
     "output_type": "display_data"
    }
   ],
   "source": [
    "x = np.linspace(*dist_B.ppf([.001, .999]),201)\n",
    "plt.plot(x, dist_B.pdf(x))\n",
    "plt.vlines(dist_B.ppf([.025, .975]), ymin = 0, ymax = dist_B.pdf(x).max(), linestyles='dotted')\n",
    "plt.fill_between(x, 0, dist_B.pdf(x), where = (x < dist_B.ppf(.025)) | (x > dist_B.ppf(.975) ));"
   ]
  },
  {
   "cell_type": "code",
   "execution_count": null,
   "metadata": {},
   "outputs": [],
   "source": []
  },
  {
   "cell_type": "code",
   "execution_count": null,
   "metadata": {},
   "outputs": [],
   "source": []
  },
  {
   "cell_type": "markdown",
   "metadata": {},
   "source": [
    "### Comparing rates of searches of Blacks by white officers, Black officers"
   ]
  },
  {
   "cell_type": "code",
   "execution_count": null,
   "metadata": {},
   "outputs": [],
   "source": [
    "white_off_Black_cit\n",
    "Black_off_Black_cit"
   ]
  },
  {
   "cell_type": "code",
   "execution_count": 232,
   "metadata": {},
   "outputs": [
    {
     "data": {
      "image/png": "[encoded data removed]",
      "text/plain": [
       "<Figure size 720x360 with 1 Axes>"
      ]
     },
     "metadata": {
      "needs_background": "light"
     },
     "output_type": "display_data"
    }
   ],
   "source": [
    "# searches of Blacks by white officers, Black officers \n",
    "\n",
    "fig, ax = plt.subplots(1, 1, figsize=(10, 5))\n",
    "\n",
    "\n",
    "plot_beta_searches(white_off_Black_cit, ax, label=\"Blacks searched by white officers\")\n",
    "plot_beta_searches(Black_off_Black_cit, ax, label=\"Blacks searched by Black officers\")\n",
    "ax.legend()\n",
    "ax.set_xlim(0,0.2);"
   ]
  },
  {
   "cell_type": "code",
   "execution_count": 236,
   "metadata": {},
   "outputs": [],
   "source": [
    "n = 1000\n",
    "white_offc_search_B_samples = white_off_Black_cit[:n]\n",
    "Black_offc_search_B_samples = Black_off_Black_cit[:n]"
   ]
  },
  {
   "cell_type": "code",
   "execution_count": 238,
   "metadata": {},
   "outputs": [
    {
     "name": "stdout",
     "output_type": "stream",
     "text": [
      "121 881\n",
      "137 865\n",
      "0.14253309\n",
      "0.85746691\n"
     ]
    }
   ],
   "source": [
    "num_simulations = 100_000_000\n",
    "\n",
    "alpha, beta = get_beta_dist_params(white_offc_search_B_samples)[:2]\n",
    "print(alpha, beta)\n",
    "dist_A = stats.beta(alpha, beta)\n",
    "\n",
    "alpha, beta = get_beta_dist_params(Black_offc_search_B_samples)[:2]\n",
    "print(alpha, beta)\n",
    "dist_B = stats.beta(alpha, beta)\n",
    "\n",
    "simulated_A = dist_A.rvs(num_simulations)\n",
    "simulated_B = dist_B.rvs(num_simulations)\n",
    "\n",
    "print((simulated_A > simulated_B).mean())\n",
    "print((simulated_B > simulated_A).mean())"
   ]
  },
  {
   "cell_type": "markdown",
   "metadata": {},
   "source": [
    "#### 95% confidence interval for white officers, Black citizens"
   ]
  },
  {
   "cell_type": "code",
   "execution_count": 239,
   "metadata": {},
   "outputs": [
    {
     "data": {
      "image/png": "[encoded data removed]",
      "text/plain": [
       "<Figure size 432x288 with 1 Axes>"
      ]
     },
     "metadata": {
      "needs_background": "light"
     },
     "output_type": "display_data"
    }
   ],
   "source": [
    "x = np.linspace(*dist_A.ppf([.001, .999]),201)\n",
    "plt.plot(x, dist_A.pdf(x))\n",
    "plt.vlines(dist_A.ppf([.025, .975]), ymin = 0, ymax = dist_A.pdf(x).max(), linestyles='dotted')\n",
    "plt.fill_between(x, 0, dist_A.pdf(x), where = (x < dist_A.ppf(.025)) | (x > dist_A.ppf(.975) ));"
   ]
  },
  {
   "cell_type": "markdown",
   "metadata": {},
   "source": [
    "### 95% confidence interval for Black officers, black citizens"
   ]
  },
  {
   "cell_type": "code",
   "execution_count": 240,
   "metadata": {},
   "outputs": [
    {
     "data": {
      "image/png": "[encoded data removed]",
      "text/plain": [
       "<Figure size 432x288 with 1 Axes>"
      ]
     },
     "metadata": {
      "needs_background": "light"
     },
     "output_type": "display_data"
    }
   ],
   "source": [
    "x = np.linspace(*dist_B.ppf([.001, .999]),201)\n",
    "plt.plot(x, dist_B.pdf(x))\n",
    "plt.vlines(dist_B.ppf([.025, .975]), ymin = 0, ymax = dist_B.pdf(x).max(), linestyles='dotted')\n",
    "plt.fill_between(x, 0, dist_B.pdf(x), where = (x < dist_B.ppf(.025)) | (x > dist_B.ppf(.975) ));"
   ]
  },
  {
   "cell_type": "code",
   "execution_count": null,
   "metadata": {},
   "outputs": [],
   "source": []
  },
  {
   "cell_type": "code",
   "execution_count": null,
   "metadata": {},
   "outputs": [],
   "source": []
  },
  {
   "cell_type": "markdown",
   "metadata": {},
   "source": [
    "### Comparing rates of searches of white citizens and Black citizens by Black officers"
   ]
  },
  {
   "cell_type": "code",
   "execution_count": null,
   "metadata": {},
   "outputs": [],
   "source": [
    "Black_off_Black_cit\n",
    "Black_off_white_cit"
   ]
  },
  {
   "cell_type": "code",
   "execution_count": 241,
   "metadata": {},
   "outputs": [
    {
     "data": {
      "image/png": "[encoded data removed]",
      "text/plain": [
       "<Figure size 720x360 with 1 Axes>"
      ]
     },
     "metadata": {
      "needs_background": "light"
     },
     "output_type": "display_data"
    }
   ],
   "source": [
    "# searches of whites and Blacks by Black officers \n",
    "\n",
    "fig, ax = plt.subplots(1, 1, figsize=(10, 5))\n",
    "\n",
    "\n",
    "plot_beta_searches(Black_off_white_cit, ax, label=\"Whites searched by Black officers\")\n",
    "plot_beta_searches(Black_off_Black_cit, ax, label=\"Blacks searched by Black officers\")\n",
    "ax.legend()\n",
    "ax.set_xlim(0,0.2);"
   ]
  },
  {
   "cell_type": "code",
   "execution_count": 242,
   "metadata": {},
   "outputs": [],
   "source": [
    "n = 1000\n",
    "Black_offc_search_w_samples = Black_off_white_cit[:n]\n",
    "Black_offc_search_B_samples = Black_off_Black_cit[:n]"
   ]
  },
  {
   "cell_type": "code",
   "execution_count": 243,
   "metadata": {},
   "outputs": [
    {
     "name": "stdout",
     "output_type": "stream",
     "text": [
      "103 899\n",
      "137 865\n",
      "0.0092\n",
      "0.9908\n"
     ]
    }
   ],
   "source": [
    "num_simulations = 100_000\n",
    "\n",
    "alpha, beta = get_beta_dist_params(Black_offc_search_w_samples)[:2]\n",
    "print(alpha, beta)\n",
    "dist_A = stats.beta(alpha, beta)\n",
    "\n",
    "alpha, beta = get_beta_dist_params(Black_offc_search_B_samples)[:2]\n",
    "print(alpha, beta)\n",
    "dist_B = stats.beta(alpha, beta)\n",
    "\n",
    "simulated_A = dist_A.rvs(num_simulations)\n",
    "simulated_B = dist_B.rvs(num_simulations)\n",
    "\n",
    "print((simulated_A > simulated_B).mean())\n",
    "print((simulated_B > simulated_A).mean())"
   ]
  },
  {
   "cell_type": "markdown",
   "metadata": {},
   "source": [
    "### 95% confidence interval for Black officers searching white citizens"
   ]
  },
  {
   "cell_type": "code",
   "execution_count": 244,
   "metadata": {},
   "outputs": [
    {
     "data": {
      "image/png": "[encoded data removed]",
      "text/plain": [
       "<Figure size 432x288 with 1 Axes>"
      ]
     },
     "metadata": {
      "needs_background": "light"
     },
     "output_type": "display_data"
    }
   ],
   "source": [
    "x = np.linspace(*dist_A.ppf([.001, .999]),201)\n",
    "plt.plot(x, dist_A.pdf(x))\n",
    "plt.vlines(dist_A.ppf([.025, .975]), ymin = 0, ymax = dist_A.pdf(x).max(), linestyles='dotted')\n",
    "plt.fill_between(x, 0, dist_A.pdf(x), where = (x < dist_A.ppf(.025)) | (x > dist_A.ppf(.975) ));"
   ]
  },
  {
   "cell_type": "markdown",
   "metadata": {},
   "source": [
    "### 95% confidence interval for Black officers searching Black citizens"
   ]
  },
  {
   "cell_type": "code",
   "execution_count": 245,
   "metadata": {},
   "outputs": [
    {
     "data": {
      "image/png": "[encoded data removed]",
      "text/plain": [
       "<Figure size 432x288 with 1 Axes>"
      ]
     },
     "metadata": {
      "needs_background": "light"
     },
     "output_type": "display_data"
    }
   ],
   "source": [
    "x = np.linspace(*dist_B.ppf([.001, .999]),201)\n",
    "plt.plot(x, dist_B.pdf(x))\n",
    "plt.vlines(dist_B.ppf([.025, .975]), ymin = 0, ymax = dist_B.pdf(x).max(), linestyles='dotted')\n",
    "plt.fill_between(x, 0, dist_B.pdf(x), where = (x < dist_B.ppf(.025)) | (x > dist_B.ppf(.975) ));"
   ]
  },
  {
   "cell_type": "code",
   "execution_count": null,
   "metadata": {},
   "outputs": [],
   "source": []
  }
 ],
 "metadata": {
  "kernelspec": {
   "display_name": "Python 3",
   "language": "python",
   "name": "python3"
  },
  "language_info": {
   "codemirror_mode": {
    "name": "ipython",
    "version": 3
   },
   "file_extension": ".py",
   "mimetype": "text/x-python",
   "name": "python",
   "nbconvert_exporter": "python",
   "pygments_lexer": "ipython3",
   "version": "3.7.9"
  }
 },
 "nbformat": 4,
 "nbformat_minor": 4
}
