{
 "cells": [
  {
   "cell_type": "code",
   "execution_count": 86,
   "metadata": {},
   "outputs": [],
   "source": [
    "import pandas as pd\n",
    "import numpy as np\n",
    "import scipy as sp\n",
    "import scipy.stats as stats\n",
    "import matplotlib.pyplot as plt"
   ]
  },
  {
   "cell_type": "code",
   "execution_count": 87,
   "metadata": {},
   "outputs": [],
   "source": [
    "df = pd.read_csv('data/clean_stop_data.csv')"
   ]
  },
  {
   "cell_type": "code",
   "execution_count": 88,
   "metadata": {
    "scrolled": true
   },
   "outputs": [
    {
     "data": {
      "text/html": [
       "<div>\n",
       "<style scoped>\n",
       "    .dataframe tbody tr th:only-of-type {\n",
       "        vertical-align: middle;\n",
       "    }\n",
       "\n",
       "    .dataframe tbody tr th {\n",
       "        vertical-align: top;\n",
       "    }\n",
       "\n",
       "    .dataframe thead th {\n",
       "        text-align: right;\n",
       "    }\n",
       "</style>\n",
       "<table border=\"1\" class=\"dataframe\">\n",
       "  <thead>\n",
       "    <tr style=\"text-align: right;\">\n",
       "      <th></th>\n",
       "      <th>year</th>\n",
       "      <th>month</th>\n",
       "      <th>day</th>\n",
       "      <th>hour</th>\n",
       "      <th>citizen_race</th>\n",
       "      <th>citizen_gender</th>\n",
       "      <th>citizen_age</th>\n",
       "      <th>officer_race</th>\n",
       "      <th>officer_gender</th>\n",
       "      <th>division</th>\n",
       "      <th>beat</th>\n",
       "      <th>violation</th>\n",
       "      <th>frisked</th>\n",
       "      <th>searched</th>\n",
       "      <th>citation_issued</th>\n",
       "      <th>date</th>\n",
       "      <th>time</th>\n",
       "      <th>lat</th>\n",
       "      <th>lng</th>\n",
       "    </tr>\n",
       "  </thead>\n",
       "  <tbody>\n",
       "    <tr>\n",
       "      <th>0</th>\n",
       "      <td>2015.0</td>\n",
       "      <td>1.0</td>\n",
       "      <td>1.0</td>\n",
       "      <td>22.0</td>\n",
       "      <td>white</td>\n",
       "      <td>male</td>\n",
       "      <td>53.0</td>\n",
       "      <td>Asian</td>\n",
       "      <td>female</td>\n",
       "      <td>6TH DIVISION</td>\n",
       "      <td>BEAT 1</td>\n",
       "      <td>FAIL OF NON-OWNER/OPER TO MAINTAIN REQ INS/SEC...</td>\n",
       "      <td>0</td>\n",
       "      <td>0</td>\n",
       "      <td>1</td>\n",
       "      <td>2015-01-01</td>\n",
       "      <td>22:39:00</td>\n",
       "      <td>38.210850</td>\n",
       "      <td>-85.740058</td>\n",
       "    </tr>\n",
       "    <tr>\n",
       "      <th>1</th>\n",
       "      <td>2015.0</td>\n",
       "      <td>1.0</td>\n",
       "      <td>2.0</td>\n",
       "      <td>16.0</td>\n",
       "      <td>white</td>\n",
       "      <td>male</td>\n",
       "      <td>NaN</td>\n",
       "      <td>Asian</td>\n",
       "      <td>female</td>\n",
       "      <td>6TH DIVISION</td>\n",
       "      <td>BEAT 5</td>\n",
       "      <td>NaN</td>\n",
       "      <td>0</td>\n",
       "      <td>0</td>\n",
       "      <td>1</td>\n",
       "      <td>2015-01-02</td>\n",
       "      <td>16:42:00</td>\n",
       "      <td>38.203829</td>\n",
       "      <td>-85.665319</td>\n",
       "    </tr>\n",
       "    <tr>\n",
       "      <th>2</th>\n",
       "      <td>2015.0</td>\n",
       "      <td>1.0</td>\n",
       "      <td>2.0</td>\n",
       "      <td>20.0</td>\n",
       "      <td>Black</td>\n",
       "      <td>female</td>\n",
       "      <td>NaN</td>\n",
       "      <td>Asian</td>\n",
       "      <td>female</td>\n",
       "      <td>6TH DIVISION</td>\n",
       "      <td>BEAT 5</td>\n",
       "      <td>NaN</td>\n",
       "      <td>0</td>\n",
       "      <td>0</td>\n",
       "      <td>0</td>\n",
       "      <td>2015-01-02</td>\n",
       "      <td>20:00:00</td>\n",
       "      <td>38.205311</td>\n",
       "      <td>-85.650115</td>\n",
       "    </tr>\n",
       "    <tr>\n",
       "      <th>3</th>\n",
       "      <td>2015.0</td>\n",
       "      <td>1.0</td>\n",
       "      <td>2.0</td>\n",
       "      <td>20.0</td>\n",
       "      <td>Black</td>\n",
       "      <td>male</td>\n",
       "      <td>24.0</td>\n",
       "      <td>Asian</td>\n",
       "      <td>female</td>\n",
       "      <td>6TH DIVISION</td>\n",
       "      <td>BEAT 5</td>\n",
       "      <td>OPERATING ON SUSPENDED/REVOKED OPERATORS LICEN...</td>\n",
       "      <td>0</td>\n",
       "      <td>1</td>\n",
       "      <td>1</td>\n",
       "      <td>2015-01-02</td>\n",
       "      <td>20:35:00</td>\n",
       "      <td>38.202592</td>\n",
       "      <td>-85.654212</td>\n",
       "    </tr>\n",
       "    <tr>\n",
       "      <th>4</th>\n",
       "      <td>2015.0</td>\n",
       "      <td>1.0</td>\n",
       "      <td>11.0</td>\n",
       "      <td>17.0</td>\n",
       "      <td>Black</td>\n",
       "      <td>male</td>\n",
       "      <td>24.0</td>\n",
       "      <td>Asian</td>\n",
       "      <td>female</td>\n",
       "      <td>6TH DIVISION</td>\n",
       "      <td>BEAT 2</td>\n",
       "      <td>NO OR EXPIRED REGISTRATION PLATES|FAILURE OF O...</td>\n",
       "      <td>0</td>\n",
       "      <td>0</td>\n",
       "      <td>1</td>\n",
       "      <td>2015-01-11</td>\n",
       "      <td>17:20:00</td>\n",
       "      <td>38.156730</td>\n",
       "      <td>-85.696997</td>\n",
       "    </tr>\n",
       "  </tbody>\n",
       "</table>\n",
       "</div>"
      ],
      "text/plain": [
       "     year  month   day  hour citizen_race citizen_gender  citizen_age  \\\n",
       "0  2015.0    1.0   1.0  22.0        white           male         53.0   \n",
       "1  2015.0    1.0   2.0  16.0        white           male          NaN   \n",
       "2  2015.0    1.0   2.0  20.0        Black         female          NaN   \n",
       "3  2015.0    1.0   2.0  20.0        Black           male         24.0   \n",
       "4  2015.0    1.0  11.0  17.0        Black           male         24.0   \n",
       "\n",
       "  officer_race officer_gender      division    beat  \\\n",
       "0        Asian         female  6TH DIVISION  BEAT 1   \n",
       "1        Asian         female  6TH DIVISION  BEAT 5   \n",
       "2        Asian         female  6TH DIVISION  BEAT 5   \n",
       "3        Asian         female  6TH DIVISION  BEAT 5   \n",
       "4        Asian         female  6TH DIVISION  BEAT 2   \n",
       "\n",
       "                                           violation  frisked  searched  \\\n",
       "0  FAIL OF NON-OWNER/OPER TO MAINTAIN REQ INS/SEC...        0         0   \n",
       "1                                                NaN        0         0   \n",
       "2                                                NaN        0         0   \n",
       "3  OPERATING ON SUSPENDED/REVOKED OPERATORS LICEN...        0         1   \n",
       "4  NO OR EXPIRED REGISTRATION PLATES|FAILURE OF O...        0         0   \n",
       "\n",
       "   citation_issued        date      time        lat        lng  \n",
       "0                1  2015-01-01  22:39:00  38.210850 -85.740058  \n",
       "1                1  2015-01-02  16:42:00  38.203829 -85.665319  \n",
       "2                0  2015-01-02  20:00:00  38.205311 -85.650115  \n",
       "3                1  2015-01-02  20:35:00  38.202592 -85.654212  \n",
       "4                1  2015-01-11  17:20:00  38.156730 -85.696997  "
      ]
     },
     "execution_count": 88,
     "metadata": {},
     "output_type": "execute_result"
    }
   ],
   "source": [
    "df.head()"
   ]
  },
  {
   "cell_type": "code",
   "execution_count": 89,
   "metadata": {},
   "outputs": [],
   "source": [
    "overview = df.groupby('citizen_race').aggregate(np.sum)[['frisked', 'searched', 'citation_issued']]"
   ]
  },
  {
   "cell_type": "code",
   "execution_count": 90,
   "metadata": {},
   "outputs": [
    {
     "name": "stdout",
     "output_type": "stream",
     "text": [
      "<class 'pandas.core.frame.DataFrame'>\n",
      "RangeIndex: 110960 entries, 0 to 110959\n",
      "Data columns (total 19 columns):\n",
      " #   Column           Non-Null Count   Dtype  \n",
      "---  ------           --------------   -----  \n",
      " 0   year             110959 non-null  float64\n",
      " 1   month            110959 non-null  float64\n",
      " 2   day              110959 non-null  float64\n",
      " 3   hour             110926 non-null  float64\n",
      " 4   citizen_race     110048 non-null  object \n",
      " 5   citizen_gender   110924 non-null  object \n",
      " 6   citizen_age      81283 non-null   float64\n",
      " 7   officer_race     110804 non-null  object \n",
      " 8   officer_gender   110804 non-null  object \n",
      " 9   division         106767 non-null  object \n",
      " 10  beat             106817 non-null  object \n",
      " 11  violation        81300 non-null   object \n",
      " 12  frisked          110960 non-null  int64  \n",
      " 13  searched         110960 non-null  int64  \n",
      " 14  citation_issued  110960 non-null  int64  \n",
      " 15  date             110959 non-null  object \n",
      " 16  time             110926 non-null  object \n",
      " 17  lat              110507 non-null  float64\n",
      " 18  lng              110507 non-null  float64\n",
      "dtypes: float64(7), int64(3), object(9)\n",
      "memory usage: 16.1+ MB\n"
     ]
    }
   ],
   "source": [
    "df.info()"
   ]
  },
  {
   "cell_type": "code",
   "execution_count": 91,
   "metadata": {},
   "outputs": [],
   "source": [
    "stops = pd.Series(df.citizen_race.value_counts())\n",
    "overview['stops'] = stops\n",
    "overview = overview[['stops', 'searched', 'frisked', 'citation_issued']]\n",
    "overview['pop'] = pd.Series({'Black': 171781, 'white': 546872, 'Native American': 1302, 'Asian': 22829, 'Latino': 45355})"
   ]
  },
  {
   "cell_type": "code",
   "execution_count": 92,
   "metadata": {},
   "outputs": [],
   "source": [
    "overview['% ethnicity frisked'] = ((overview['frisked'] / overview['stops']) * 100).round(2)\n",
    "overview['% ethnicity searched'] = ((overview['searched'] / overview['stops']) * 100).round(2)\n",
    "overview['% ethnicity cited'] = ((overview['citation_issued'] / overview['stops']) * 100).round(2)\n",
    "overview['% of population'] = ((overview['pop'] / 766000) * 100).round(2)\n",
    "overview['% of all stops'] = ((overview['stops'] / df.year.count()) * 100).round(2)\n",
    "overview['% of all searches'] = ((overview['searched'] / df.searched.sum()) * 100).round(2)\n",
    "overview['% of all citations'] = ((overview['citation_issued'] / df.citation_issued.sum()) * 100).round(2)"
   ]
  },
  {
   "cell_type": "code",
   "execution_count": 93,
   "metadata": {},
   "outputs": [
    {
     "data": {
      "text/html": [
       "<div>\n",
       "<style scoped>\n",
       "    .dataframe tbody tr th:only-of-type {\n",
       "        vertical-align: middle;\n",
       "    }\n",
       "\n",
       "    .dataframe tbody tr th {\n",
       "        vertical-align: top;\n",
       "    }\n",
       "\n",
       "    .dataframe thead th {\n",
       "        text-align: right;\n",
       "    }\n",
       "</style>\n",
       "<table border=\"1\" class=\"dataframe\">\n",
       "  <thead>\n",
       "    <tr style=\"text-align: right;\">\n",
       "      <th></th>\n",
       "      <th>stops</th>\n",
       "      <th>searched</th>\n",
       "      <th>frisked</th>\n",
       "      <th>citation_issued</th>\n",
       "      <th>pop</th>\n",
       "      <th>% ethnicity frisked</th>\n",
       "      <th>% ethnicity searched</th>\n",
       "      <th>% ethnicity cited</th>\n",
       "      <th>% of population</th>\n",
       "      <th>% of all stops</th>\n",
       "      <th>% of all searches</th>\n",
       "      <th>% of all citations</th>\n",
       "    </tr>\n",
       "    <tr>\n",
       "      <th>citizen_race</th>\n",
       "      <th></th>\n",
       "      <th></th>\n",
       "      <th></th>\n",
       "      <th></th>\n",
       "      <th></th>\n",
       "      <th></th>\n",
       "      <th></th>\n",
       "      <th></th>\n",
       "      <th></th>\n",
       "      <th></th>\n",
       "      <th></th>\n",
       "      <th></th>\n",
       "    </tr>\n",
       "  </thead>\n",
       "  <tbody>\n",
       "    <tr>\n",
       "      <th>Asian</th>\n",
       "      <td>411</td>\n",
       "      <td>25</td>\n",
       "      <td>0</td>\n",
       "      <td>60</td>\n",
       "      <td>22829.0</td>\n",
       "      <td>0.00</td>\n",
       "      <td>6.08</td>\n",
       "      <td>14.60</td>\n",
       "      <td>2.98</td>\n",
       "      <td>0.37</td>\n",
       "      <td>0.36</td>\n",
       "      <td>0.07</td>\n",
       "    </tr>\n",
       "    <tr>\n",
       "      <th>Black</th>\n",
       "      <td>34943</td>\n",
       "      <td>3125</td>\n",
       "      <td>9</td>\n",
       "      <td>23494</td>\n",
       "      <td>171781.0</td>\n",
       "      <td>0.03</td>\n",
       "      <td>8.94</td>\n",
       "      <td>67.24</td>\n",
       "      <td>22.43</td>\n",
       "      <td>31.49</td>\n",
       "      <td>45.38</td>\n",
       "      <td>28.60</td>\n",
       "    </tr>\n",
       "    <tr>\n",
       "      <th>Latino</th>\n",
       "      <td>4843</td>\n",
       "      <td>254</td>\n",
       "      <td>0</td>\n",
       "      <td>3536</td>\n",
       "      <td>45355.0</td>\n",
       "      <td>0.00</td>\n",
       "      <td>5.24</td>\n",
       "      <td>73.01</td>\n",
       "      <td>5.92</td>\n",
       "      <td>4.36</td>\n",
       "      <td>3.69</td>\n",
       "      <td>4.30</td>\n",
       "    </tr>\n",
       "    <tr>\n",
       "      <th>Middle Eastern</th>\n",
       "      <td>444</td>\n",
       "      <td>38</td>\n",
       "      <td>0</td>\n",
       "      <td>57</td>\n",
       "      <td>NaN</td>\n",
       "      <td>0.00</td>\n",
       "      <td>8.56</td>\n",
       "      <td>12.84</td>\n",
       "      <td>NaN</td>\n",
       "      <td>0.40</td>\n",
       "      <td>0.55</td>\n",
       "      <td>0.07</td>\n",
       "    </tr>\n",
       "    <tr>\n",
       "      <th>Native American</th>\n",
       "      <td>65</td>\n",
       "      <td>2</td>\n",
       "      <td>0</td>\n",
       "      <td>50</td>\n",
       "      <td>1302.0</td>\n",
       "      <td>0.00</td>\n",
       "      <td>3.08</td>\n",
       "      <td>76.92</td>\n",
       "      <td>0.17</td>\n",
       "      <td>0.06</td>\n",
       "      <td>0.03</td>\n",
       "      <td>0.06</td>\n",
       "    </tr>\n",
       "    <tr>\n",
       "      <th>Unknown</th>\n",
       "      <td>2</td>\n",
       "      <td>0</td>\n",
       "      <td>0</td>\n",
       "      <td>2</td>\n",
       "      <td>NaN</td>\n",
       "      <td>0.00</td>\n",
       "      <td>0.00</td>\n",
       "      <td>100.00</td>\n",
       "      <td>NaN</td>\n",
       "      <td>0.00</td>\n",
       "      <td>0.00</td>\n",
       "      <td>0.00</td>\n",
       "    </tr>\n",
       "    <tr>\n",
       "      <th>white</th>\n",
       "      <td>69340</td>\n",
       "      <td>3435</td>\n",
       "      <td>7</td>\n",
       "      <td>54073</td>\n",
       "      <td>546872.0</td>\n",
       "      <td>0.01</td>\n",
       "      <td>4.95</td>\n",
       "      <td>77.98</td>\n",
       "      <td>71.39</td>\n",
       "      <td>62.49</td>\n",
       "      <td>49.88</td>\n",
       "      <td>65.81</td>\n",
       "    </tr>\n",
       "  </tbody>\n",
       "</table>\n",
       "</div>"
      ],
      "text/plain": [
       "                 stops  searched  frisked  citation_issued       pop  \\\n",
       "citizen_race                                                           \n",
       "Asian              411        25        0               60   22829.0   \n",
       "Black            34943      3125        9            23494  171781.0   \n",
       "Latino            4843       254        0             3536   45355.0   \n",
       "Middle Eastern     444        38        0               57       NaN   \n",
       "Native American     65         2        0               50    1302.0   \n",
       "Unknown              2         0        0                2       NaN   \n",
       "white            69340      3435        7            54073  546872.0   \n",
       "\n",
       "                 % ethnicity frisked  % ethnicity searched  % ethnicity cited  \\\n",
       "citizen_race                                                                    \n",
       "Asian                           0.00                  6.08              14.60   \n",
       "Black                           0.03                  8.94              67.24   \n",
       "Latino                          0.00                  5.24              73.01   \n",
       "Middle Eastern                  0.00                  8.56              12.84   \n",
       "Native American                 0.00                  3.08              76.92   \n",
       "Unknown                         0.00                  0.00             100.00   \n",
       "white                           0.01                  4.95              77.98   \n",
       "\n",
       "                 % of population  % of all stops  % of all searches  \\\n",
       "citizen_race                                                          \n",
       "Asian                       2.98            0.37               0.36   \n",
       "Black                      22.43           31.49              45.38   \n",
       "Latino                      5.92            4.36               3.69   \n",
       "Middle Eastern               NaN            0.40               0.55   \n",
       "Native American             0.17            0.06               0.03   \n",
       "Unknown                      NaN            0.00               0.00   \n",
       "white                      71.39           62.49              49.88   \n",
       "\n",
       "                 % of all citations  \n",
       "citizen_race                         \n",
       "Asian                          0.07  \n",
       "Black                         28.60  \n",
       "Latino                         4.30  \n",
       "Middle Eastern                 0.07  \n",
       "Native American                0.06  \n",
       "Unknown                        0.00  \n",
       "white                         65.81  "
      ]
     },
     "execution_count": 93,
     "metadata": {},
     "output_type": "execute_result"
    }
   ],
   "source": [
    "overview"
   ]
  },
  {
   "cell_type": "code",
   "execution_count": null,
   "metadata": {},
   "outputs": [],
   "source": []
  },
  {
   "cell_type": "code",
   "execution_count": 94,
   "metadata": {
    "scrolled": true
   },
   "outputs": [],
   "source": [
    "pct_pop = [overview.loc['Asian', '% of population'], overview.loc['Black', '% of population'], overview.loc['Latino', '% of population'], overview.loc['white', '% of population']]\n",
    "pct_all_stops = [overview.loc['Asian', '% of all stops'], overview.loc['Black', '% of all stops'], overview.loc['Latino', '% of all stops'], overview.loc['white', '% of all stops']]\n",
    "pct_all_searches = [overview.loc['Asian', '% of all searches'], overview.loc['Black', '% of all searches'], overview.loc['Latino', '% of all searches'], overview.loc['white', '% of all searches']]             \n",
    "pct_all_citations = [overview.loc['Asian', '% of all citations'], overview.loc['Black', '% of all citations'], overview.loc['Latino', '% of all citations'], overview.loc['white', '% of all citations']]"
   ]
  },
  {
   "cell_type": "code",
   "execution_count": 157,
   "metadata": {},
   "outputs": [
    {
     "data": {
      "image/png": "[encoded data removed]",
      "text/plain": [
       "<Figure size 720x360 with 1 Axes>"
      ]
     },
     "metadata": {
      "needs_background": "light"
     },
     "output_type": "display_data"
    }
   ],
   "source": [
    "labels = ['Asian', 'Black', 'Latino', 'white']\n",
    "\n",
    "x = np.arange(len(labels))  # the label locations\n",
    "width = 0.2  # the width of the bars\n",
    "spacing = 0.52\n",
    "\n",
    "fig, ax = plt.subplots(figsize=(10,5))\n",
    "rects1 = ax.bar(x, pct_pop, width, label='% of population')\n",
    "rects2 = ax.bar(x + spacing/3, pct_all_stops, width, label='% of all stops')\n",
    "rects3 = ax.bar(x + (2*spacing)/3, pct_all_searches, width, label='% of all searches')\n",
    "rects4 = ax.bar(x + spacing, pct_all_citations, width, label='% of all citations')\n",
    "\n",
    "\n",
    "# Add some text for labels, title and custom x-axis tick labels, etc.\n",
    "ax.set_ylabel('Percentage')\n",
    "ax.set_title('Percentage of population vs all stops, searches, and citations')\n",
    "ax.set_xticks(x + .225)\n",
    "ax.set_xticklabels(labels)\n",
    "ax.tick_params(bottom=False)\n",
    "for tick in ax.xaxis.get_majorticklabels():\n",
    "    tick.set_horizontalalignment(\"left\")\n",
    "ax.legend()\n",
    "\n",
    "\n",
    "\n",
    "def autolabel(rects):\n",
    "    \"\"\"Attach a text label above each bar in *rects*, displaying its height.\"\"\"\n",
    "    for rect in rects:\n",
    "        height = rect.get_height()\n",
    "        ax.annotate('{}'.format(height),\n",
    "                    xy=(rect.get_x() + rect.get_width() / 2, height),\n",
    "                    xytext=(0, 3),  # 3 points vertical offset\n",
    "                    textcoords=\"offset points\",\n",
    "                    ha='center', va='bottom')\n",
    "\n",
    "\n",
    "autolabel(rects1)\n",
    "autolabel(rects2)\n",
    "autolabel(rects3)\n",
    "autolabel(rects4)\n",
    "\n",
    "#fig.tight_layout(w_pad=2)\n",
    "fig.tight_layout()\n",
    "plt.show()"
   ]
  },
  {
   "cell_type": "code",
   "execution_count": 96,
   "metadata": {},
   "outputs": [
    {
     "data": {
      "text/html": [
       "<div>\n",
       "<style scoped>\n",
       "    .dataframe tbody tr th:only-of-type {\n",
       "        vertical-align: middle;\n",
       "    }\n",
       "\n",
       "    .dataframe tbody tr th {\n",
       "        vertical-align: top;\n",
       "    }\n",
       "\n",
       "    .dataframe thead th {\n",
       "        text-align: right;\n",
       "    }\n",
       "</style>\n",
       "<table border=\"1\" class=\"dataframe\">\n",
       "  <thead>\n",
       "    <tr style=\"text-align: right;\">\n",
       "      <th></th>\n",
       "      <th>stops</th>\n",
       "      <th>searched</th>\n",
       "      <th>frisked</th>\n",
       "      <th>citation_issued</th>\n",
       "      <th>pop</th>\n",
       "      <th>% ethnicity frisked</th>\n",
       "      <th>% ethnicity searched</th>\n",
       "      <th>% ethnicity cited</th>\n",
       "      <th>% of population</th>\n",
       "      <th>% of all stops</th>\n",
       "      <th>% of all searches</th>\n",
       "      <th>% of all citations</th>\n",
       "    </tr>\n",
       "    <tr>\n",
       "      <th>citizen_race</th>\n",
       "      <th></th>\n",
       "      <th></th>\n",
       "      <th></th>\n",
       "      <th></th>\n",
       "      <th></th>\n",
       "      <th></th>\n",
       "      <th></th>\n",
       "      <th></th>\n",
       "      <th></th>\n",
       "      <th></th>\n",
       "      <th></th>\n",
       "      <th></th>\n",
       "    </tr>\n",
       "  </thead>\n",
       "  <tbody>\n",
       "    <tr>\n",
       "      <th>Asian</th>\n",
       "      <td>411</td>\n",
       "      <td>25</td>\n",
       "      <td>0</td>\n",
       "      <td>60</td>\n",
       "      <td>22829.0</td>\n",
       "      <td>0.00</td>\n",
       "      <td>6.08</td>\n",
       "      <td>14.60</td>\n",
       "      <td>2.98</td>\n",
       "      <td>0.37</td>\n",
       "      <td>0.36</td>\n",
       "      <td>0.07</td>\n",
       "    </tr>\n",
       "    <tr>\n",
       "      <th>Black</th>\n",
       "      <td>34943</td>\n",
       "      <td>3125</td>\n",
       "      <td>9</td>\n",
       "      <td>23494</td>\n",
       "      <td>171781.0</td>\n",
       "      <td>0.03</td>\n",
       "      <td>8.94</td>\n",
       "      <td>67.24</td>\n",
       "      <td>22.43</td>\n",
       "      <td>31.49</td>\n",
       "      <td>45.38</td>\n",
       "      <td>28.60</td>\n",
       "    </tr>\n",
       "    <tr>\n",
       "      <th>Latino</th>\n",
       "      <td>4843</td>\n",
       "      <td>254</td>\n",
       "      <td>0</td>\n",
       "      <td>3536</td>\n",
       "      <td>45355.0</td>\n",
       "      <td>0.00</td>\n",
       "      <td>5.24</td>\n",
       "      <td>73.01</td>\n",
       "      <td>5.92</td>\n",
       "      <td>4.36</td>\n",
       "      <td>3.69</td>\n",
       "      <td>4.30</td>\n",
       "    </tr>\n",
       "    <tr>\n",
       "      <th>Middle Eastern</th>\n",
       "      <td>444</td>\n",
       "      <td>38</td>\n",
       "      <td>0</td>\n",
       "      <td>57</td>\n",
       "      <td>NaN</td>\n",
       "      <td>0.00</td>\n",
       "      <td>8.56</td>\n",
       "      <td>12.84</td>\n",
       "      <td>NaN</td>\n",
       "      <td>0.40</td>\n",
       "      <td>0.55</td>\n",
       "      <td>0.07</td>\n",
       "    </tr>\n",
       "    <tr>\n",
       "      <th>Native American</th>\n",
       "      <td>65</td>\n",
       "      <td>2</td>\n",
       "      <td>0</td>\n",
       "      <td>50</td>\n",
       "      <td>1302.0</td>\n",
       "      <td>0.00</td>\n",
       "      <td>3.08</td>\n",
       "      <td>76.92</td>\n",
       "      <td>0.17</td>\n",
       "      <td>0.06</td>\n",
       "      <td>0.03</td>\n",
       "      <td>0.06</td>\n",
       "    </tr>\n",
       "    <tr>\n",
       "      <th>Unknown</th>\n",
       "      <td>2</td>\n",
       "      <td>0</td>\n",
       "      <td>0</td>\n",
       "      <td>2</td>\n",
       "      <td>NaN</td>\n",
       "      <td>0.00</td>\n",
       "      <td>0.00</td>\n",
       "      <td>100.00</td>\n",
       "      <td>NaN</td>\n",
       "      <td>0.00</td>\n",
       "      <td>0.00</td>\n",
       "      <td>0.00</td>\n",
       "    </tr>\n",
       "    <tr>\n",
       "      <th>white</th>\n",
       "      <td>69340</td>\n",
       "      <td>3435</td>\n",
       "      <td>7</td>\n",
       "      <td>54073</td>\n",
       "      <td>546872.0</td>\n",
       "      <td>0.01</td>\n",
       "      <td>4.95</td>\n",
       "      <td>77.98</td>\n",
       "      <td>71.39</td>\n",
       "      <td>62.49</td>\n",
       "      <td>49.88</td>\n",
       "      <td>65.81</td>\n",
       "    </tr>\n",
       "  </tbody>\n",
       "</table>\n",
       "</div>"
      ],
      "text/plain": [
       "                 stops  searched  frisked  citation_issued       pop  \\\n",
       "citizen_race                                                           \n",
       "Asian              411        25        0               60   22829.0   \n",
       "Black            34943      3125        9            23494  171781.0   \n",
       "Latino            4843       254        0             3536   45355.0   \n",
       "Middle Eastern     444        38        0               57       NaN   \n",
       "Native American     65         2        0               50    1302.0   \n",
       "Unknown              2         0        0                2       NaN   \n",
       "white            69340      3435        7            54073  546872.0   \n",
       "\n",
       "                 % ethnicity frisked  % ethnicity searched  % ethnicity cited  \\\n",
       "citizen_race                                                                    \n",
       "Asian                           0.00                  6.08              14.60   \n",
       "Black                           0.03                  8.94              67.24   \n",
       "Latino                          0.00                  5.24              73.01   \n",
       "Middle Eastern                  0.00                  8.56              12.84   \n",
       "Native American                 0.00                  3.08              76.92   \n",
       "Unknown                         0.00                  0.00             100.00   \n",
       "white                           0.01                  4.95              77.98   \n",
       "\n",
       "                 % of population  % of all stops  % of all searches  \\\n",
       "citizen_race                                                          \n",
       "Asian                       2.98            0.37               0.36   \n",
       "Black                      22.43           31.49              45.38   \n",
       "Latino                      5.92            4.36               3.69   \n",
       "Middle Eastern               NaN            0.40               0.55   \n",
       "Native American             0.17            0.06               0.03   \n",
       "Unknown                      NaN            0.00               0.00   \n",
       "white                      71.39           62.49              49.88   \n",
       "\n",
       "                 % of all citations  \n",
       "citizen_race                         \n",
       "Asian                          0.07  \n",
       "Black                         28.60  \n",
       "Latino                         4.30  \n",
       "Middle Eastern                 0.07  \n",
       "Native American                0.06  \n",
       "Unknown                        0.00  \n",
       "white                         65.81  "
      ]
     },
     "execution_count": 96,
     "metadata": {},
     "output_type": "execute_result"
    }
   ],
   "source": [
    "overview.head(10)"
   ]
  },
  {
   "cell_type": "code",
   "execution_count": null,
   "metadata": {},
   "outputs": [],
   "source": []
  },
  {
   "cell_type": "code",
   "execution_count": 97,
   "metadata": {},
   "outputs": [],
   "source": [
    "pct_Asian = [overview.loc['Asian', '% ethnicity searched'], overview.loc['Asian', '% ethnicity cited']]\n",
    "pct_Black = [overview.loc['Black', '% ethnicity searched'], overview.loc['Black', '% ethnicity cited']]\n",
    "pct_Latino = [overview.loc['Latino', '% ethnicity searched'], overview.loc['Latino', '% ethnicity cited']]\n",
    "pct_white = [overview.loc['white', '% ethnicity searched'], overview.loc['white', '% ethnicity cited']]"
   ]
  },
  {
   "cell_type": "code",
   "execution_count": 98,
   "metadata": {},
   "outputs": [],
   "source": [
    "# pct_ethnicity_searched = [overview.loc['Asian', '% ethnicity searched'], overview.loc['Black', '% ethnicity searched'], overview.loc['Latino', '% ethnicity searched'], overview.loc['white', '% ethnicity searched']]\n",
    "# pct_ethnicity_cited = [overview.loc['Asian', '% ethnicity cited'], overview.loc['Black', '% ethnicity cited'], overview.loc['Latino', '% ethnicity cited'], overview.loc['white', '% ethnicity cited']]"
   ]
  },
  {
   "cell_type": "code",
   "execution_count": 149,
   "metadata": {},
   "outputs": [
    {
     "data": {
      "text/plain": [
       "[6.08, 14.6]"
      ]
     },
     "execution_count": 149,
     "metadata": {},
     "output_type": "execute_result"
    }
   ],
   "source": [
    "pct_Asian"
   ]
  },
  {
   "cell_type": "code",
   "execution_count": 177,
   "metadata": {},
   "outputs": [
    {
     "data": {
      "image/png": "[encoded data removed]",
      "text/plain": [
       "<Figure size 720x360 with 1 Axes>"
      ]
     },
     "metadata": {
      "needs_background": "light"
     },
     "output_type": "display_data"
    }
   ],
   "source": [
    "labels = ['Searched', 'Cited']\n",
    "\n",
    "x = np.arange(len(labels))  # the label locations\n",
    "width = 0.2  # the width of the bars\n",
    "spacing = 0.52\n",
    "\n",
    "fig, ax = plt.subplots(figsize=(10,5))\n",
    "rects1 = ax.bar(x, pct_Asian, width, label='Asian')\n",
    "rects2 = ax.bar(x + spacing/3, pct_Black, width, label='Black')\n",
    "rects3 = ax.bar(x + (2*spacing)/3, pct_Latino, width, label='Latino')\n",
    "rects4 = ax.bar(x + spacing, pct_white, width, label='white')\n",
    "\n",
    "# Add some text for labels, title and custom x-axis tick labels, etc.\n",
    "ax.set_ylabel('Percentage')\n",
    "ax.set_title('Percentage of those stopped who were searched and cited, by race')\n",
    "ax.set_xticks(x + .225)\n",
    "ax.set_xticklabels(labels)\n",
    "ax.tick_params(bottom=False)\n",
    "for tick in ax.xaxis.get_majorticklabels():\n",
    "    tick.set_horizontalalignment(\"left\")\n",
    "ax.legend()\n",
    "\n",
    "def autolabel(rects):\n",
    "    \"\"\"Attach a text label above each bar in *rects*, displaying its height.\"\"\"\n",
    "    for rect in rects:\n",
    "        height = rect.get_height()\n",
    "        ax.annotate('{}'.format(height),\n",
    "                    xy=(rect.get_x() + rect.get_width() / 2, height),\n",
    "                    xytext=(0, 3),  # 3 points vertical offset\n",
    "                    textcoords=\"offset points\",\n",
    "                    ha='center', va='bottom')\n",
    "\n",
    "\n",
    "autolabel(rects1)\n",
    "autolabel(rects2)\n",
    "autolabel(rects3)\n",
    "autolabel(rects4)\n",
    "\n",
    "#fig.tight_layout(w_pad=2)\n",
    "fig.tight_layout()\n",
    "plt.show()"
   ]
  },
  {
   "cell_type": "code",
   "execution_count": null,
   "metadata": {},
   "outputs": [],
   "source": []
  },
  {
   "cell_type": "code",
   "execution_count": null,
   "metadata": {},
   "outputs": [],
   "source": []
  },
  {
   "cell_type": "code",
   "execution_count": 100,
   "metadata": {},
   "outputs": [],
   "source": [
    "overview_3 = df.groupby(['officer_race', 'citizen_race']).aggregate(np.sum)[['frisked', 'searched', 'citation_issued']]"
   ]
  },
  {
   "cell_type": "code",
   "execution_count": 101,
   "metadata": {},
   "outputs": [],
   "source": [
    "overview_3['stops'] = df.groupby(['officer_race', 'citizen_race'])['year'].count()"
   ]
  },
  {
   "cell_type": "code",
   "execution_count": 102,
   "metadata": {},
   "outputs": [],
   "source": [
    "overview_3['% frisked'] = overview_3['frisked'] / overview_3['stops']\n",
    "overview_3['% searched'] = overview_3['searched'] / overview_3['stops']\n",
    "overview_3['% cited'] = overview_3['citation_issued'] / overview_3['stops']"
   ]
  },
  {
   "cell_type": "code",
   "execution_count": 103,
   "metadata": {
    "scrolled": true
   },
   "outputs": [
    {
     "data": {
      "text/html": [
       "<div>\n",
       "<style scoped>\n",
       "    .dataframe tbody tr th:only-of-type {\n",
       "        vertical-align: middle;\n",
       "    }\n",
       "\n",
       "    .dataframe tbody tr th {\n",
       "        vertical-align: top;\n",
       "    }\n",
       "\n",
       "    .dataframe thead th {\n",
       "        text-align: right;\n",
       "    }\n",
       "</style>\n",
       "<table border=\"1\" class=\"dataframe\">\n",
       "  <thead>\n",
       "    <tr style=\"text-align: right;\">\n",
       "      <th></th>\n",
       "      <th></th>\n",
       "      <th>frisked</th>\n",
       "      <th>searched</th>\n",
       "      <th>citation_issued</th>\n",
       "      <th>stops</th>\n",
       "      <th>% frisked</th>\n",
       "      <th>% searched</th>\n",
       "      <th>% cited</th>\n",
       "    </tr>\n",
       "    <tr>\n",
       "      <th>officer_race</th>\n",
       "      <th>citizen_race</th>\n",
       "      <th></th>\n",
       "      <th></th>\n",
       "      <th></th>\n",
       "      <th></th>\n",
       "      <th></th>\n",
       "      <th></th>\n",
       "      <th></th>\n",
       "    </tr>\n",
       "  </thead>\n",
       "  <tbody>\n",
       "    <tr>\n",
       "      <th rowspan=\"5\" valign=\"top\">Asian</th>\n",
       "      <th>Asian</th>\n",
       "      <td>0</td>\n",
       "      <td>0</td>\n",
       "      <td>0</td>\n",
       "      <td>7</td>\n",
       "      <td>0.000000</td>\n",
       "      <td>0.000000</td>\n",
       "      <td>0.000000</td>\n",
       "    </tr>\n",
       "    <tr>\n",
       "      <th>Black</th>\n",
       "      <td>0</td>\n",
       "      <td>77</td>\n",
       "      <td>255</td>\n",
       "      <td>565</td>\n",
       "      <td>0.000000</td>\n",
       "      <td>0.136283</td>\n",
       "      <td>0.451327</td>\n",
       "    </tr>\n",
       "    <tr>\n",
       "      <th>Latino</th>\n",
       "      <td>0</td>\n",
       "      <td>8</td>\n",
       "      <td>37</td>\n",
       "      <td>74</td>\n",
       "      <td>0.000000</td>\n",
       "      <td>0.108108</td>\n",
       "      <td>0.500000</td>\n",
       "    </tr>\n",
       "    <tr>\n",
       "      <th>Middle Eastern</th>\n",
       "      <td>0</td>\n",
       "      <td>0</td>\n",
       "      <td>0</td>\n",
       "      <td>2</td>\n",
       "      <td>0.000000</td>\n",
       "      <td>0.000000</td>\n",
       "      <td>0.000000</td>\n",
       "    </tr>\n",
       "    <tr>\n",
       "      <th>white</th>\n",
       "      <td>0</td>\n",
       "      <td>74</td>\n",
       "      <td>330</td>\n",
       "      <td>764</td>\n",
       "      <td>0.000000</td>\n",
       "      <td>0.096859</td>\n",
       "      <td>0.431937</td>\n",
       "    </tr>\n",
       "    <tr>\n",
       "      <th rowspan=\"7\" valign=\"top\">Black</th>\n",
       "      <th>Asian</th>\n",
       "      <td>0</td>\n",
       "      <td>1</td>\n",
       "      <td>3</td>\n",
       "      <td>46</td>\n",
       "      <td>0.000000</td>\n",
       "      <td>0.021739</td>\n",
       "      <td>0.065217</td>\n",
       "    </tr>\n",
       "    <tr>\n",
       "      <th>Black</th>\n",
       "      <td>2</td>\n",
       "      <td>383</td>\n",
       "      <td>5124</td>\n",
       "      <td>6733</td>\n",
       "      <td>0.000297</td>\n",
       "      <td>0.056884</td>\n",
       "      <td>0.761028</td>\n",
       "    </tr>\n",
       "    <tr>\n",
       "      <th>Latino</th>\n",
       "      <td>0</td>\n",
       "      <td>13</td>\n",
       "      <td>686</td>\n",
       "      <td>800</td>\n",
       "      <td>0.000000</td>\n",
       "      <td>0.016250</td>\n",
       "      <td>0.857500</td>\n",
       "    </tr>\n",
       "    <tr>\n",
       "      <th>Middle Eastern</th>\n",
       "      <td>0</td>\n",
       "      <td>4</td>\n",
       "      <td>9</td>\n",
       "      <td>84</td>\n",
       "      <td>0.000000</td>\n",
       "      <td>0.047619</td>\n",
       "      <td>0.107143</td>\n",
       "    </tr>\n",
       "    <tr>\n",
       "      <th>Native American</th>\n",
       "      <td>0</td>\n",
       "      <td>0</td>\n",
       "      <td>13</td>\n",
       "      <td>16</td>\n",
       "      <td>0.000000</td>\n",
       "      <td>0.000000</td>\n",
       "      <td>0.812500</td>\n",
       "    </tr>\n",
       "    <tr>\n",
       "      <th>Unknown</th>\n",
       "      <td>0</td>\n",
       "      <td>0</td>\n",
       "      <td>1</td>\n",
       "      <td>1</td>\n",
       "      <td>0.000000</td>\n",
       "      <td>0.000000</td>\n",
       "      <td>1.000000</td>\n",
       "    </tr>\n",
       "    <tr>\n",
       "      <th>white</th>\n",
       "      <td>0</td>\n",
       "      <td>399</td>\n",
       "      <td>11919</td>\n",
       "      <td>13663</td>\n",
       "      <td>0.000000</td>\n",
       "      <td>0.029203</td>\n",
       "      <td>0.872356</td>\n",
       "    </tr>\n",
       "    <tr>\n",
       "      <th rowspan=\"5\" valign=\"top\">Latino</th>\n",
       "      <th>Asian</th>\n",
       "      <td>0</td>\n",
       "      <td>0</td>\n",
       "      <td>0</td>\n",
       "      <td>11</td>\n",
       "      <td>0.000000</td>\n",
       "      <td>0.000000</td>\n",
       "      <td>0.000000</td>\n",
       "    </tr>\n",
       "    <tr>\n",
       "      <th>Black</th>\n",
       "      <td>0</td>\n",
       "      <td>48</td>\n",
       "      <td>79</td>\n",
       "      <td>279</td>\n",
       "      <td>0.000000</td>\n",
       "      <td>0.172043</td>\n",
       "      <td>0.283154</td>\n",
       "    </tr>\n",
       "    <tr>\n",
       "      <th>Latino</th>\n",
       "      <td>0</td>\n",
       "      <td>10</td>\n",
       "      <td>20</td>\n",
       "      <td>54</td>\n",
       "      <td>0.000000</td>\n",
       "      <td>0.185185</td>\n",
       "      <td>0.370370</td>\n",
       "    </tr>\n",
       "    <tr>\n",
       "      <th>Middle Eastern</th>\n",
       "      <td>0</td>\n",
       "      <td>1</td>\n",
       "      <td>1</td>\n",
       "      <td>11</td>\n",
       "      <td>0.000000</td>\n",
       "      <td>0.090909</td>\n",
       "      <td>0.090909</td>\n",
       "    </tr>\n",
       "    <tr>\n",
       "      <th>white</th>\n",
       "      <td>0</td>\n",
       "      <td>77</td>\n",
       "      <td>126</td>\n",
       "      <td>368</td>\n",
       "      <td>0.000000</td>\n",
       "      <td>0.209239</td>\n",
       "      <td>0.342391</td>\n",
       "    </tr>\n",
       "    <tr>\n",
       "      <th rowspan=\"4\" valign=\"top\">Other</th>\n",
       "      <th>Black</th>\n",
       "      <td>0</td>\n",
       "      <td>1</td>\n",
       "      <td>6</td>\n",
       "      <td>19</td>\n",
       "      <td>0.000000</td>\n",
       "      <td>0.052632</td>\n",
       "      <td>0.315789</td>\n",
       "    </tr>\n",
       "    <tr>\n",
       "      <th>Latino</th>\n",
       "      <td>0</td>\n",
       "      <td>0</td>\n",
       "      <td>0</td>\n",
       "      <td>2</td>\n",
       "      <td>0.000000</td>\n",
       "      <td>0.000000</td>\n",
       "      <td>0.000000</td>\n",
       "    </tr>\n",
       "    <tr>\n",
       "      <th>Middle Eastern</th>\n",
       "      <td>0</td>\n",
       "      <td>0</td>\n",
       "      <td>0</td>\n",
       "      <td>1</td>\n",
       "      <td>0.000000</td>\n",
       "      <td>0.000000</td>\n",
       "      <td>0.000000</td>\n",
       "    </tr>\n",
       "    <tr>\n",
       "      <th>white</th>\n",
       "      <td>0</td>\n",
       "      <td>1</td>\n",
       "      <td>3</td>\n",
       "      <td>21</td>\n",
       "      <td>0.000000</td>\n",
       "      <td>0.047619</td>\n",
       "      <td>0.142857</td>\n",
       "    </tr>\n",
       "    <tr>\n",
       "      <th rowspan=\"7\" valign=\"top\">white</th>\n",
       "      <th>Asian</th>\n",
       "      <td>0</td>\n",
       "      <td>24</td>\n",
       "      <td>57</td>\n",
       "      <td>344</td>\n",
       "      <td>0.000000</td>\n",
       "      <td>0.069767</td>\n",
       "      <td>0.165698</td>\n",
       "    </tr>\n",
       "    <tr>\n",
       "      <th>Black</th>\n",
       "      <td>7</td>\n",
       "      <td>2605</td>\n",
       "      <td>18015</td>\n",
       "      <td>27285</td>\n",
       "      <td>0.000257</td>\n",
       "      <td>0.095474</td>\n",
       "      <td>0.660253</td>\n",
       "    </tr>\n",
       "    <tr>\n",
       "      <th>Latino</th>\n",
       "      <td>0</td>\n",
       "      <td>218</td>\n",
       "      <td>2793</td>\n",
       "      <td>3904</td>\n",
       "      <td>0.000000</td>\n",
       "      <td>0.055840</td>\n",
       "      <td>0.715420</td>\n",
       "    </tr>\n",
       "    <tr>\n",
       "      <th>Middle Eastern</th>\n",
       "      <td>0</td>\n",
       "      <td>33</td>\n",
       "      <td>47</td>\n",
       "      <td>345</td>\n",
       "      <td>0.000000</td>\n",
       "      <td>0.095652</td>\n",
       "      <td>0.136232</td>\n",
       "    </tr>\n",
       "    <tr>\n",
       "      <th>Native American</th>\n",
       "      <td>0</td>\n",
       "      <td>2</td>\n",
       "      <td>37</td>\n",
       "      <td>49</td>\n",
       "      <td>0.000000</td>\n",
       "      <td>0.040816</td>\n",
       "      <td>0.755102</td>\n",
       "    </tr>\n",
       "    <tr>\n",
       "      <th>Unknown</th>\n",
       "      <td>0</td>\n",
       "      <td>0</td>\n",
       "      <td>1</td>\n",
       "      <td>1</td>\n",
       "      <td>0.000000</td>\n",
       "      <td>0.000000</td>\n",
       "      <td>1.000000</td>\n",
       "    </tr>\n",
       "    <tr>\n",
       "      <th>white</th>\n",
       "      <td>7</td>\n",
       "      <td>2878</td>\n",
       "      <td>41683</td>\n",
       "      <td>54446</td>\n",
       "      <td>0.000129</td>\n",
       "      <td>0.052860</td>\n",
       "      <td>0.765584</td>\n",
       "    </tr>\n",
       "  </tbody>\n",
       "</table>\n",
       "</div>"
      ],
      "text/plain": [
       "                              frisked  searched  citation_issued  stops  \\\n",
       "officer_race citizen_race                                                 \n",
       "Asian        Asian                  0         0                0      7   \n",
       "             Black                  0        77              255    565   \n",
       "             Latino                 0         8               37     74   \n",
       "             Middle Eastern         0         0                0      2   \n",
       "             white                  0        74              330    764   \n",
       "Black        Asian                  0         1                3     46   \n",
       "             Black                  2       383             5124   6733   \n",
       "             Latino                 0        13              686    800   \n",
       "             Middle Eastern         0         4                9     84   \n",
       "             Native American        0         0               13     16   \n",
       "             Unknown                0         0                1      1   \n",
       "             white                  0       399            11919  13663   \n",
       "Latino       Asian                  0         0                0     11   \n",
       "             Black                  0        48               79    279   \n",
       "             Latino                 0        10               20     54   \n",
       "             Middle Eastern         0         1                1     11   \n",
       "             white                  0        77              126    368   \n",
       "Other        Black                  0         1                6     19   \n",
       "             Latino                 0         0                0      2   \n",
       "             Middle Eastern         0         0                0      1   \n",
       "             white                  0         1                3     21   \n",
       "white        Asian                  0        24               57    344   \n",
       "             Black                  7      2605            18015  27285   \n",
       "             Latino                 0       218             2793   3904   \n",
       "             Middle Eastern         0        33               47    345   \n",
       "             Native American        0         2               37     49   \n",
       "             Unknown                0         0                1      1   \n",
       "             white                  7      2878            41683  54446   \n",
       "\n",
       "                              % frisked  % searched   % cited  \n",
       "officer_race citizen_race                                      \n",
       "Asian        Asian             0.000000    0.000000  0.000000  \n",
       "             Black             0.000000    0.136283  0.451327  \n",
       "             Latino            0.000000    0.108108  0.500000  \n",
       "             Middle Eastern    0.000000    0.000000  0.000000  \n",
       "             white             0.000000    0.096859  0.431937  \n",
       "Black        Asian             0.000000    0.021739  0.065217  \n",
       "             Black             0.000297    0.056884  0.761028  \n",
       "             Latino            0.000000    0.016250  0.857500  \n",
       "             Middle Eastern    0.000000    0.047619  0.107143  \n",
       "             Native American   0.000000    0.000000  0.812500  \n",
       "             Unknown           0.000000    0.000000  1.000000  \n",
       "             white             0.000000    0.029203  0.872356  \n",
       "Latino       Asian             0.000000    0.000000  0.000000  \n",
       "             Black             0.000000    0.172043  0.283154  \n",
       "             Latino            0.000000    0.185185  0.370370  \n",
       "             Middle Eastern    0.000000    0.090909  0.090909  \n",
       "             white             0.000000    0.209239  0.342391  \n",
       "Other        Black             0.000000    0.052632  0.315789  \n",
       "             Latino            0.000000    0.000000  0.000000  \n",
       "             Middle Eastern    0.000000    0.000000  0.000000  \n",
       "             white             0.000000    0.047619  0.142857  \n",
       "white        Asian             0.000000    0.069767  0.165698  \n",
       "             Black             0.000257    0.095474  0.660253  \n",
       "             Latino            0.000000    0.055840  0.715420  \n",
       "             Middle Eastern    0.000000    0.095652  0.136232  \n",
       "             Native American   0.000000    0.040816  0.755102  \n",
       "             Unknown           0.000000    0.000000  1.000000  \n",
       "             white             0.000129    0.052860  0.765584  "
      ]
     },
     "execution_count": 103,
     "metadata": {},
     "output_type": "execute_result"
    }
   ],
   "source": [
    "overview_3"
   ]
  },
  {
   "cell_type": "code",
   "execution_count": 104,
   "metadata": {
    "scrolled": false
   },
   "outputs": [],
   "source": [
    "Asian_officer_pct_search = (overview_3.loc['Asian', '% searched'] * 100).round(2)\n",
    "Black_officer_pct_search = (overview_3.loc['Black', '% searched'] * 100).round(2)\n",
    "Latino_officer_pct_search = (overview_3.loc['Latino', '% searched'] * 100).round(2)\n",
    "white_officer_pct_search = (overview_3.loc['white', '% searched'] * 100).round(2)"
   ]
  },
  {
   "cell_type": "code",
   "execution_count": 178,
   "metadata": {},
   "outputs": [
    {
     "data": {
      "image/png": "[encoded data removed]",
      "text/plain": [
       "<Figure size 720x360 with 1 Axes>"
      ]
     },
     "metadata": {
      "needs_background": "light"
     },
     "output_type": "display_data"
    }
   ],
   "source": [
    "labels = ['Asian officers', 'Black officers', 'Latino officers', 'white officers']\n",
    "Asian = [Asian_officer_pct_search[0], Black_officer_pct_search[0], Latino_officer_pct_search[0], white_officer_pct_search[0]]\n",
    "Black = [Asian_officer_pct_search[1], Black_officer_pct_search[1], Latino_officer_pct_search[1], white_officer_pct_search[1]]\n",
    "Latino = [Asian_officer_pct_search[2], Black_officer_pct_search[2], Latino_officer_pct_search[2], white_officer_pct_search[2]]\n",
    "white = [Asian_officer_pct_search[4], Black_officer_pct_search[6], Latino_officer_pct_search[4], white_officer_pct_search[6]]\n",
    "\n",
    "x = np.arange(len(labels))  # the label locations\n",
    "width = 0.2  # the width of the bars\n",
    "spacing = 0.52\n",
    "\n",
    "fig, ax = plt.subplots(figsize=(10,5))\n",
    "rects1 = ax.bar(x, Asian, width, label='Asian citizen')\n",
    "rects2 = ax.bar(x + spacing/3, Black, width, label='Black citizen')\n",
    "rects3 = ax.bar(x + (2*spacing)/3, Latino, width, label='Latino citizen')\n",
    "rects4 = ax.bar(x + spacing, white, width, label='white citizen')\n",
    "\n",
    "\n",
    "# Add some text for labels, title and custom x-axis tick labels, etc.\n",
    "ax.set_ylabel('Percentage')\n",
    "ax.set_title('Percentage of stopped citizens who were searched, by race and race of officer')\n",
    "ax.set_xticks(x + .225)\n",
    "ax.set_xticklabels(labels)\n",
    "ax.tick_params(bottom=False)\n",
    "for tick in ax.xaxis.get_majorticklabels():\n",
    "    tick.set_horizontalalignment(\"left\")\n",
    "ax.legend()\n",
    "\n",
    "\n",
    "def autolabel(rects):\n",
    "    \"\"\"Attach a text label above each bar in *rects*, displaying its height.\"\"\"\n",
    "    for rect in rects:\n",
    "        height = rect.get_height()\n",
    "        ax.annotate('{}'.format(height),\n",
    "                    xy=(rect.get_x() + rect.get_width() / 2, height),\n",
    "                    xytext=(0, 3),  # 3 points vertical offset\n",
    "                    textcoords=\"offset points\",\n",
    "                    ha='center', va='bottom')\n",
    "\n",
    "\n",
    "autolabel(rects1)\n",
    "autolabel(rects2)\n",
    "autolabel(rects3)\n",
    "autolabel(rects4)\n",
    "\n",
    "#fig.tight_layout(w_pad=2)\n",
    "fig.tight_layout()\n",
    "plt.show()"
   ]
  },
  {
   "cell_type": "code",
   "execution_count": 106,
   "metadata": {},
   "outputs": [],
   "source": [
    "Asian_officer_pct_cited = (overview_3.loc['Asian', '% cited'] * 100).round(2)\n",
    "Black_officer_pct_cited = (overview_3.loc['Black', '% cited'] * 100).round(2)\n",
    "Latino_officer_pct_cited = (overview_3.loc['Latino', '% cited'] * 100).round(2)\n",
    "white_officer_pct_cited = (overview_3.loc['white', '% cited'] * 100).round(2)"
   ]
  },
  {
   "cell_type": "code",
   "execution_count": 107,
   "metadata": {},
   "outputs": [
    {
     "data": {
      "text/plain": [
       "[0.0, 6.52, 0.0, 16.57]"
      ]
     },
     "execution_count": 107,
     "metadata": {},
     "output_type": "execute_result"
    }
   ],
   "source": [
    "[Asian_officer_pct_cited[0], Black_officer_pct_cited[0], Latino_officer_pct_cited[0], white_officer_pct_cited[0]]"
   ]
  },
  {
   "cell_type": "code",
   "execution_count": 179,
   "metadata": {},
   "outputs": [
    {
     "data": {
      "image/png": "[encoded data removed]",
      "text/plain": [
       "<Figure size 720x360 with 1 Axes>"
      ]
     },
     "metadata": {
      "needs_background": "light"
     },
     "output_type": "display_data"
    }
   ],
   "source": [
    "labels = ['Asian officers', 'Black officers', 'Latino officers', 'white officers']\n",
    "Asian = [Asian_officer_pct_cited[0], Black_officer_pct_cited[0], Latino_officer_pct_cited[0], white_officer_pct_cited[0]]\n",
    "Black = [Asian_officer_pct_cited[1], Black_officer_pct_cited[1], Latino_officer_pct_cited[1], white_officer_pct_cited[1]]\n",
    "Latino = [Asian_officer_pct_cited[2], Black_officer_pct_cited[2], Latino_officer_pct_cited[2], white_officer_pct_cited[2]]\n",
    "white = [Asian_officer_pct_cited[4], Black_officer_pct_cited[6], Latino_officer_pct_cited[4], white_officer_pct_cited[6]]\n",
    "\n",
    "x = np.arange(len(labels))  # the label locations\n",
    "width = 0.2  # the width of the bars\n",
    "spacing = 0.52\n",
    "\n",
    "fig, ax = plt.subplots(figsize=(10,5))\n",
    "rects1 = ax.bar(x, Asian, width, label='Asian citizen')\n",
    "rects2 = ax.bar(x + spacing/3, Black, width, label='Black citizen')\n",
    "rects3 = ax.bar(x + (2*spacing)/3, Latino, width, label='Latino citizen')\n",
    "rects4 = ax.bar(x + spacing, white, width, label='white citizen')\n",
    "\n",
    "\n",
    "# Add some text for labels, title and custom x-axis tick labels, etc.\n",
    "ax.set_ylabel('Percentage')\n",
    "ax.set_title('Percentage of those stopped who were given citations, by race and race of officer')\n",
    "ax.set_xticks(x + .225)\n",
    "ax.set_xticklabels(labels)\n",
    "ax.tick_params(bottom=False)\n",
    "for tick in ax.xaxis.get_majorticklabels():\n",
    "    tick.set_horizontalalignment(\"left\")\n",
    "ax.legend()\n",
    "\n",
    "\n",
    "def autolabel(rects):\n",
    "    \"\"\"Attach a text label above each bar in *rects*, displaying its height.\"\"\"\n",
    "    for rect in rects:\n",
    "        height = rect.get_height()\n",
    "        ax.annotate('{}'.format(height),\n",
    "                    xy=(rect.get_x() + rect.get_width() / 2, height),\n",
    "                    xytext=(0, 3),  # 3 points vertical offset\n",
    "                    textcoords=\"offset points\",\n",
    "                    ha='center', va='bottom')\n",
    "\n",
    "\n",
    "autolabel(rects1)\n",
    "autolabel(rects2)\n",
    "autolabel(rects3)\n",
    "autolabel(rects4)\n",
    "\n",
    "#fig.tight_layout(w_pad=2)\n",
    "fig.tight_layout()\n",
    "plt.show()"
   ]
  },
  {
   "cell_type": "code",
   "execution_count": null,
   "metadata": {
    "scrolled": true
   },
   "outputs": [],
   "source": []
  },
  {
   "cell_type": "code",
   "execution_count": 231,
   "metadata": {},
   "outputs": [
    {
     "data": {
      "text/plain": [
       "(<scipy.stats._distn_infrastructure.rv_frozen at 0x7fd0152bff90>, 3125, 34943)"
      ]
     },
     "execution_count": 231,
     "metadata": {},
     "output_type": "execute_result"
    }
   ],
   "source": [
    "def a_b(race):\n",
    "    a = df.groupby('citizen_race').sum('searched').loc[race, 'searched']\n",
    "    b = df.groupby('citizen_race').count().loc[race, 'searched']\n",
    "    return stats.beta((a + 1), b - a + 1).rvs(10000)\n",
    "a_b('Black')"
   ]
  },
  {
   "cell_type": "code",
   "execution_count": 175,
   "metadata": {},
   "outputs": [
    {
     "data": {
      "text/plain": [
       "1.0"
      ]
     },
     "execution_count": 175,
     "metadata": {},
     "output_type": "execute_result"
    }
   ],
   "source": [
    "# (a_b('Black') > a_b('white')).mean()"
   ]
  },
  {
   "cell_type": "markdown",
   "metadata": {},
   "source": [
    "### Total search & citation data for individual races of citizen"
   ]
  },
  {
   "cell_type": "code",
   "execution_count": 197,
   "metadata": {},
   "outputs": [
    {
     "data": {
      "text/plain": [
       "34943"
      ]
     },
     "execution_count": 197,
     "metadata": {},
     "output_type": "execute_result"
    }
   ],
   "source": [
    "# all searches of Blacks, all officers\n",
    "Black_searches = df.loc[(df.citizen_race == 'Black') & (df.searched.isin([0,1]))]\n",
    "Black_searches = Black_searches['searched']\n",
    "len(Black_searches)"
   ]
  },
  {
   "cell_type": "code",
   "execution_count": 110,
   "metadata": {},
   "outputs": [
    {
     "data": {
      "text/plain": [
       "34943"
      ]
     },
     "execution_count": 110,
     "metadata": {},
     "output_type": "execute_result"
    }
   ],
   "source": [
    "# of all citations of Blacks, all officers\n",
    "Black_citations = df.loc[(df.citizen_race == 'Black') & (df.citation_issued.isin([0,1]))]\n",
    "Black_citations = Black_citations['citation_issued']\n",
    "len(Black_citations)"
   ]
  },
  {
   "cell_type": "code",
   "execution_count": 111,
   "metadata": {},
   "outputs": [
    {
     "data": {
      "text/plain": [
       "69340"
      ]
     },
     "execution_count": 111,
     "metadata": {},
     "output_type": "execute_result"
    }
   ],
   "source": [
    "#all searches of whites, all officers\n",
    "white_searches = df.loc[(df.citizen_race == 'white') & (df.searched.isin([0,1]))]\n",
    "white_searches = white_searches['searched']\n",
    "len(white_searches)"
   ]
  },
  {
   "cell_type": "code",
   "execution_count": 112,
   "metadata": {},
   "outputs": [
    {
     "data": {
      "text/plain": [
       "69340"
      ]
     },
     "execution_count": 112,
     "metadata": {},
     "output_type": "execute_result"
    }
   ],
   "source": [
    "# of all citations of whites, all officers\n",
    "white_citations = df.loc[(df.citizen_race == 'white') & (df.citation_issued.isin([0,1]))]\n",
    "white_citations = white_citations['citation_issued']\n",
    "len(white_citations)"
   ]
  },
  {
   "cell_type": "code",
   "execution_count": 113,
   "metadata": {},
   "outputs": [
    {
     "data": {
      "text/plain": [
       "4843"
      ]
     },
     "execution_count": 113,
     "metadata": {},
     "output_type": "execute_result"
    }
   ],
   "source": [
    "# all searches of Latinos, all officers\n",
    "Latino_searches = df.loc[(df.citizen_race == 'Latino') & (df.searched.isin([0,1]))]\n",
    "Latino_searches = Latino_searches['searched']\n",
    "len(Latino_searches)"
   ]
  },
  {
   "cell_type": "code",
   "execution_count": 114,
   "metadata": {},
   "outputs": [
    {
     "data": {
      "text/plain": [
       "4843"
      ]
     },
     "execution_count": 114,
     "metadata": {},
     "output_type": "execute_result"
    }
   ],
   "source": [
    "# of all citations of Latinos, all officers\n",
    "Latino_citations = df.loc[(df.citizen_race == 'Latino') & (df.citation_issued.isin([0,1]))]\n",
    "Latino_citations = Latino_citations['citation_issued']\n",
    "len(Latino_citations)"
   ]
  },
  {
   "cell_type": "code",
   "execution_count": null,
   "metadata": {},
   "outputs": [],
   "source": []
  },
  {
   "cell_type": "markdown",
   "metadata": {},
   "source": [
    "### Total search data by race of officer"
   ]
  },
  {
   "cell_type": "code",
   "execution_count": 115,
   "metadata": {},
   "outputs": [],
   "source": [
    "# all searches by white officers, all races\n",
    "white_officer_searches = df.loc[(df.officer_race == 'white') & (df.searched.isin([0,1]))]\n",
    "white_officer_searches = white_officer_searches['searched']"
   ]
  },
  {
   "cell_type": "code",
   "execution_count": 116,
   "metadata": {},
   "outputs": [],
   "source": [
    "# all citations by white officers, all races\n",
    "white_officer_citations = df.loc[(df.officer_race == 'white') & (df.citation_issued.isin([0,1]))]\n",
    "white_officer_citations = white_officer_citations['citation_issued']"
   ]
  },
  {
   "cell_type": "code",
   "execution_count": 117,
   "metadata": {},
   "outputs": [],
   "source": [
    "# all searches by Black officers, all races\n",
    "Black_officer_searches = df.loc[(df.officer_race == 'Black') & (df.searched.isin([0,1]))]\n",
    "Black_officer_searches = Black_officer_searches['searched']"
   ]
  },
  {
   "cell_type": "code",
   "execution_count": 118,
   "metadata": {},
   "outputs": [],
   "source": [
    "# all citations by Black officers, all races\n",
    "Black_officer_citations = df.loc[(df.officer_race == 'Black') & (df.citation_issued.isin([0,1]))]\n",
    "Black_officer_citations = Black_officer_citations['citation_issued']"
   ]
  },
  {
   "cell_type": "code",
   "execution_count": 119,
   "metadata": {},
   "outputs": [],
   "source": [
    "# all searches by Latino officers, all races\n",
    "Latino_officer_searches = df.loc[(df.officer_race == 'Latino') & (df.searched.isin([0,1]))]\n",
    "Latino_officer_searches = Latino_officer_searches['searched']"
   ]
  },
  {
   "cell_type": "code",
   "execution_count": 120,
   "metadata": {},
   "outputs": [],
   "source": [
    "# all citations by Latino officers, all races\n",
    "Latino_officer_citations = df.loc[(df.officer_race == 'Latino') & (df.citation_issued.isin([0,1]))]\n",
    "Latino_officer_citations = Latino_officer_citations['citation_issued']"
   ]
  },
  {
   "cell_type": "code",
   "execution_count": null,
   "metadata": {},
   "outputs": [],
   "source": []
  },
  {
   "cell_type": "markdown",
   "metadata": {},
   "source": [
    "### Searches by race of officer, race of citizen"
   ]
  },
  {
   "cell_type": "code",
   "execution_count": 121,
   "metadata": {},
   "outputs": [
    {
     "data": {
      "text/plain": [
       "27285"
      ]
     },
     "execution_count": 121,
     "metadata": {},
     "output_type": "execute_result"
    }
   ],
   "source": [
    "# searches of Black citizens by white officers\n",
    "white_off_Black_cit = df.loc[(df.officer_race == 'white') & (df.citizen_race == 'Black') & (df.searched.isin([0,1]))]\n",
    "white_off_Black_cit = white_off_Black_cit['searched']\n",
    "len(white_off_Black_cit)"
   ]
  },
  {
   "cell_type": "code",
   "execution_count": 122,
   "metadata": {},
   "outputs": [
    {
     "data": {
      "text/plain": [
       "6733"
      ]
     },
     "execution_count": 122,
     "metadata": {},
     "output_type": "execute_result"
    }
   ],
   "source": [
    "# searches of Black citizens by Black officers\n",
    "Black_off_Black_cit = df.loc[(df.officer_race == 'Black') & (df.citizen_race == 'Black') & (df.searched.isin([0,1]))]\n",
    "Black_off_Black_cit = Black_off_Black_cit['searched']\n",
    "len(Black_off_Black_cit)"
   ]
  },
  {
   "cell_type": "code",
   "execution_count": 123,
   "metadata": {},
   "outputs": [
    {
     "data": {
      "text/plain": [
       "279"
      ]
     },
     "execution_count": 123,
     "metadata": {},
     "output_type": "execute_result"
    }
   ],
   "source": [
    "# searches of Black citizens by Latino officers\n",
    "Latino_off_Black_cit = df.loc[(df.officer_race == 'Latino') & (df.citizen_race == 'Black') & (df.searched.isin([0,1]))]\n",
    "Latino_off_Black_cit = Latino_off_Black_cit['searched']\n",
    "len(Latino_off_Black_cit)"
   ]
  },
  {
   "cell_type": "code",
   "execution_count": 124,
   "metadata": {},
   "outputs": [
    {
     "data": {
      "text/plain": [
       "13663"
      ]
     },
     "execution_count": 124,
     "metadata": {},
     "output_type": "execute_result"
    }
   ],
   "source": [
    "# searches of white citizens by Black officers\n",
    "Black_off_white_cit = df.loc[(df.officer_race == 'Black') & (df.citizen_race == 'white') & (df.searched.isin([0,1]))]\n",
    "Black_off_white_cit = Black_off_white_cit['searched']\n",
    "len(Black_off_white_cit)"
   ]
  },
  {
   "cell_type": "code",
   "execution_count": 125,
   "metadata": {},
   "outputs": [
    {
     "data": {
      "text/plain": [
       "54447"
      ]
     },
     "execution_count": 125,
     "metadata": {},
     "output_type": "execute_result"
    }
   ],
   "source": [
    "# searches of white citizens by white officers\n",
    "white_off_white_cit = df.loc[(df.officer_race == 'white') & (df.citizen_race == 'white') & (df.searched.isin([0,1]))]\n",
    "white_off_white_cit = white_off_white_cit['searched']\n",
    "len(white_off_white_cit)"
   ]
  },
  {
   "cell_type": "code",
   "execution_count": 126,
   "metadata": {},
   "outputs": [
    {
     "data": {
      "text/plain": [
       "368"
      ]
     },
     "execution_count": 126,
     "metadata": {},
     "output_type": "execute_result"
    }
   ],
   "source": [
    "# searches of white citizens by Latino officers\n",
    "Latino_off_white_cit = df.loc[(df.officer_race == 'Latino') & (df.citizen_race == 'white') & (df.searched.isin([0,1]))]\n",
    "Latino_off_white_cit = Latino_off_white_cit['searched']\n",
    "len(Latino_off_white_cit)"
   ]
  },
  {
   "cell_type": "code",
   "execution_count": null,
   "metadata": {},
   "outputs": [],
   "source": []
  },
  {
   "cell_type": "code",
   "execution_count": null,
   "metadata": {},
   "outputs": [],
   "source": []
  },
  {
   "cell_type": "code",
   "execution_count": null,
   "metadata": {},
   "outputs": [],
   "source": []
  },
  {
   "cell_type": "markdown",
   "metadata": {},
   "source": [
    "## Hypothesis Testing"
   ]
  },
  {
   "cell_type": "markdown",
   "metadata": {},
   "source": [
    "\n",
    " "
   ]
  },
  {
   "cell_type": "markdown",
   "metadata": {},
   "source": [
    "### Plotting A/B "
   ]
  },
  {
   "cell_type": "code",
   "execution_count": 216,
   "metadata": {},
   "outputs": [],
   "source": [
    "def plot_beta(alpha, beta, ax, dist, title=None, label=None):\n",
    "\n",
    "    x = np.linspace(0.0, 1.0, beta)\n",
    "    y = dist.pdf(x)    \n",
    "    \n",
    "    lines = ax.plot(x, y, label=label)\n",
    "    ax.fill_between(x, y, alpha=0.2, color=lines[0].get_c())\n",
    "    if title: \n",
    "        ax.set_title(title)\n",
    "    ax.set_ylim(0.0, np.max(y)*1.2)    "
   ]
  },
  {
   "cell_type": "code",
   "execution_count": null,
   "metadata": {},
   "outputs": [],
   "source": []
  },
  {
   "cell_type": "code",
   "execution_count": null,
   "metadata": {},
   "outputs": [],
   "source": []
  },
  {
   "cell_type": "markdown",
   "metadata": {},
   "source": [
    "## Comparing searches of Black and white citizens, officers of all races"
   ]
  },
  {
   "cell_type": "markdown",
   "metadata": {},
   "source": [
    "### Simulation"
   ]
  },
  {
   "cell_type": "code",
   "execution_count": 217,
   "metadata": {},
   "outputs": [
    {
     "data": {
      "text/plain": [
       "1.0"
      ]
     },
     "execution_count": 217,
     "metadata": {},
     "output_type": "execute_result"
    }
   ],
   "source": [
    "def a_b(race):\n",
    "    a = df.groupby('citizen_race').sum('searched').loc[race, 'searched'] # alpha\n",
    "    b = df.groupby('citizen_race').count().loc[race, 'searched'] # beta\n",
    "    return stats.beta((a + 1), b - a + 1), a, b \n",
    "a_b('Black')\n",
    "(a_b('Black')[0].rvs(10000) > a_b('white')[0].rvs(10000)).mean()"
   ]
  },
  {
   "cell_type": "markdown",
   "metadata": {},
   "source": [
    "### Plotting beta distributions"
   ]
  },
  {
   "cell_type": "code",
   "execution_count": 280,
   "metadata": {},
   "outputs": [
    {
     "data": {
      "image/png": "[encoded data removed]",
      "text/plain": [
       "<Figure size 720x360 with 1 Axes>"
      ]
     },
     "metadata": {
      "needs_background": "light"
     },
     "output_type": "display_data"
    }
   ],
   "source": [
    "fig, ax = plt.subplots(1, 1, figsize=(10, 5))\n",
    "#def plot_beta(alpha, beta, ax, dist, title=None, label=None):\n",
    "\n",
    "Black_dist, b_alpha, b_beta = a_b('Black')\n",
    "White_dist, w_alpha, w_beta = a_b('white')\n",
    "plot_beta(b_alpha, b_beta, ax, Black_dist, title=title, label=\"Black\")\n",
    "plot_beta(w_alpha, w_beta, ax, White_dist, title=None, label=\"white\")\n",
    "\n",
    "# title, etc\n",
    "ax.set_xlabel(\"Search Rates\")\n",
    "title='Search rates of black and white citizens, officers of all races'\n",
    "ax.legend()\n",
    "ax.set_xlim(0.03,0.1);"
   ]
  },
  {
   "cell_type": "markdown",
   "metadata": {},
   "source": [
    "#### 95% credible interval of Black motorists' rate of search"
   ]
  },
  {
   "cell_type": "code",
   "execution_count": null,
   "metadata": {},
   "outputs": [],
   "source": []
  },
  {
   "cell_type": "code",
   "execution_count": null,
   "metadata": {},
   "outputs": [],
   "source": []
  },
  {
   "cell_type": "markdown",
   "metadata": {},
   "source": [
    "## Comparing rate of searches by Latino and white officers"
   ]
  },
  {
   "cell_type": "markdown",
   "metadata": {},
   "source": [
    "* Null hypothesis: Race does not play a role in the rate of searches by Latino and white officers\n",
    "* Alternative hypothesis: Latino officers are more likely to conduct searches than white officers\n",
    "* Alpha: .05"
   ]
  },
  {
   "cell_type": "markdown",
   "metadata": {},
   "source": [
    "### Simulations"
   ]
  },
  {
   "cell_type": "code",
   "execution_count": 232,
   "metadata": {},
   "outputs": [],
   "source": [
    "def a_b_officer_searches(race):\n",
    "    a = df.groupby('officer_race').sum('searched').loc[race, 'searched'] # alpha\n",
    "    b = df.groupby('officer_race').count().loc[race, 'searched'] # beta\n",
    "    return stats.beta((a + 1), b - a + 1), a, b "
   ]
  },
  {
   "cell_type": "code",
   "execution_count": 233,
   "metadata": {},
   "outputs": [
    {
     "data": {
      "text/plain": [
       "1.0"
      ]
     },
     "execution_count": 233,
     "metadata": {},
     "output_type": "execute_result"
    }
   ],
   "source": [
    "(a_b_officer_searches('Latino')[0].rvs(10000) > a_b_officer_searches('white')[0].rvs(10000)).mean()"
   ]
  },
  {
   "cell_type": "markdown",
   "metadata": {},
   "source": [
    "### Plotting beta distributions"
   ]
  },
  {
   "cell_type": "code",
   "execution_count": 279,
   "metadata": {},
   "outputs": [
    {
     "data": {
      "image/png": "[encoded data removed]",
      "text/plain": [
       "<Figure size 720x360 with 1 Axes>"
      ]
     },
     "metadata": {
      "needs_background": "light"
     },
     "output_type": "display_data"
    }
   ],
   "source": [
    "fig, ax = plt.subplots(1, 1, figsize=(10, 5))\n",
    "#def plot_beta(alpha, beta, ax, dist, title=None, label=None):\n",
    "\n",
    "Latino_dist, L_alpha, L_beta = a_b_officer_searches('Latino')\n",
    "White_dist, w_alpha, w_beta = a_b_officer_searches('white')\n",
    "plot_beta(b_alpha, b_beta, ax, Latino_dist, title=title, label=\"Latino\")\n",
    "plot_beta(w_alpha, w_beta, ax, White_dist, title=None, label=\"white\")\n",
    "\n",
    "# title, etc\n",
    "ax.set_xlabel(\"Search Rates\")\n",
    "title='Search rates of Latino and white officers, citizens of all races'\n",
    "ax.legend()\n",
    "ax.set_xlim(0.03,0.28);"
   ]
  },
  {
   "cell_type": "code",
   "execution_count": null,
   "metadata": {},
   "outputs": [],
   "source": []
  },
  {
   "cell_type": "code",
   "execution_count": null,
   "metadata": {},
   "outputs": [],
   "source": []
  },
  {
   "cell_type": "markdown",
   "metadata": {},
   "source": [
    "## Comparing rates of searches of Blacks citizens by white, Black officers"
   ]
  },
  {
   "cell_type": "markdown",
   "metadata": {},
   "source": [
    "### Simulations"
   ]
  },
  {
   "cell_type": "code",
   "execution_count": 261,
   "metadata": {},
   "outputs": [],
   "source": [
    "def a_b_Black_searches(off_race, cit_race):\n",
    "    a = df.groupby(['officer_race', 'citizen_race']).sum('searched').loc[off_race, 'searched'].loc[cit_race] # alpha\n",
    "    b = df.groupby(['officer_race', 'citizen_race']).count().loc[off_race, 'searched'].loc[cit_race] # beta\n",
    "    return stats.beta((a + 1), b - a + 1), a, b "
   ]
  },
  {
   "cell_type": "code",
   "execution_count": 264,
   "metadata": {},
   "outputs": [
    {
     "data": {
      "text/plain": [
       "1.0"
      ]
     },
     "execution_count": 264,
     "metadata": {},
     "output_type": "execute_result"
    }
   ],
   "source": [
    "(a_b_Black_searches('white', 'Black')[0].rvs(10000) > a_b_Black_searches('Black', 'Black')[0].rvs(10000)).mean()"
   ]
  },
  {
   "cell_type": "markdown",
   "metadata": {},
   "source": [
    "### Plotting Beta distributions"
   ]
  },
  {
   "cell_type": "code",
   "execution_count": 277,
   "metadata": {},
   "outputs": [
    {
     "data": {
      "image/png": "[encoded data removed]",
      "text/plain": [
       "<Figure size 720x360 with 1 Axes>"
      ]
     },
     "metadata": {
      "needs_background": "light"
     },
     "output_type": "display_data"
    }
   ],
   "source": [
    "# searches of Blacks by white officers, Black officers \n",
    "\n",
    "fig, ax = plt.subplots(1, 1, figsize=(10, 5))\n",
    "#def plot_beta(alpha, beta, ax, dist, title=None, label=None):\n",
    "\n",
    "white_Black_dist, wb_alpha, wb_beta = a_b_Black_searches('white', 'Black')\n",
    "Black_Black_dist, bb_alpha, bb_beta = a_b_Black_searches('Black', 'Black')\n",
    "plot_beta(wb_alpha, wb_beta, ax, white_Black_dist, title=title, label=\"White officer, Black citizen\")\n",
    "plot_beta(bb_alpha, bb_beta, ax, Black_Black_dist, title=None, label=\"Black officer, Black citizen\")\n",
    "\n",
    "# title, etc\n",
    "ax.set_xlabel(\"Search Rates\")\n",
    "title='Search rates of Black citizens by white and Black officers'\n",
    "ax.legend()\n",
    "ax.set_xlim(0.03,0.12);"
   ]
  },
  {
   "cell_type": "code",
   "execution_count": null,
   "metadata": {},
   "outputs": [],
   "source": []
  },
  {
   "cell_type": "code",
   "execution_count": null,
   "metadata": {},
   "outputs": [],
   "source": []
  },
  {
   "cell_type": "markdown",
   "metadata": {},
   "source": [
    "## Comparing rates of searches of white citizens and Black citizens by Black officers"
   ]
  },
  {
   "cell_type": "markdown",
   "metadata": {},
   "source": [
    "### Simulations"
   ]
  },
  {
   "cell_type": "code",
   "execution_count": 268,
   "metadata": {},
   "outputs": [
    {
     "data": {
      "text/plain": [
       "1.0"
      ]
     },
     "execution_count": 268,
     "metadata": {},
     "output_type": "execute_result"
    }
   ],
   "source": [
    "(a_b_Black_searches('Black', 'Black')[0].rvs(10000) > a_b_Black_searches('Black', 'white')[0].rvs(10000)).mean()"
   ]
  },
  {
   "cell_type": "markdown",
   "metadata": {},
   "source": [
    "### Plotting beta distributions"
   ]
  },
  {
   "cell_type": "code",
   "execution_count": 278,
   "metadata": {},
   "outputs": [
    {
     "data": {
      "image/png": "[encoded data removed]",
      "text/plain": [
       "<Figure size 720x360 with 1 Axes>"
      ]
     },
     "metadata": {
      "needs_background": "light"
     },
     "output_type": "display_data"
    }
   ],
   "source": [
    "fig, ax = plt.subplots(1, 1, figsize=(10, 5))\n",
    "#def plot_beta(alpha, beta, ax, dist, title=None, label=None):\n",
    "\n",
    "Black_Black_dist, bb_alpha, bb_beta = a_b_Black_searches('Black', 'Black')\n",
    "Black_white_dist, bw_alpha, bw_beta = a_b_Black_searches('Black', 'white')\n",
    "plot_beta(bb_alpha, bb_beta, ax, Black_Black_dist, title=title, label=\"Black officer, Black citizen\")\n",
    "plot_beta(bw_alpha, bw_beta, ax, Black_white_dist, title=None, label=\"Black officer, white citizen\")\n",
    "\n",
    "# title, etc\n",
    "ax.set_xlabel(\"Search Rates\")\n",
    "title='Search rates of Black citizens by white and Black officers'\n",
    "ax.legend()\n",
    "ax.set_xlim(0.01,0.08);"
   ]
  },
  {
   "cell_type": "code",
   "execution_count": 144,
   "metadata": {},
   "outputs": [
    {
     "data": {
      "image/png": "[encoded data removed]",
      "text/plain": [
       "<Figure size 720x360 with 1 Axes>"
      ]
     },
     "metadata": {
      "needs_background": "light"
     },
     "output_type": "display_data"
    }
   ],
   "source": [
    "# searches of whites and Blacks by Black officers \n",
    "\n",
    "fig, ax = plt.subplots(1, 1, figsize=(10, 5))\n",
    "\n",
    "\n",
    "plot_beta_searches(Black_off_white_cit, ax, label=\"Whites searched by Black officers\")\n",
    "plot_beta_searches(Black_off_Black_cit, ax, label=\"Blacks searched by Black officers\")\n",
    "ax.legend()\n",
    "ax.set_xlim(0,0.2);"
   ]
  },
  {
   "cell_type": "code",
   "execution_count": null,
   "metadata": {},
   "outputs": [],
   "source": []
  },
  {
   "cell_type": "code",
   "execution_count": null,
   "metadata": {},
   "outputs": [],
   "source": []
  },
  {
   "cell_type": "code",
   "execution_count": null,
   "metadata": {},
   "outputs": [],
   "source": []
  },
  {
   "cell_type": "code",
   "execution_count": null,
   "metadata": {},
   "outputs": [],
   "source": []
  }
 ],
 "metadata": {
  "kernelspec": {
   "display_name": "Python 3",
   "language": "python",
   "name": "python3"
  },
  "language_info": {
   "codemirror_mode": {
    "name": "ipython",
    "version": 3
   },
   "file_extension": ".py",
   "mimetype": "text/x-python",
   "name": "python",
   "nbconvert_exporter": "python",
   "pygments_lexer": "ipython3",
   "version": "3.7.7"
  }
 },
 "nbformat": 4,
 "nbformat_minor": 4
}
